{
  "cells": [
    {
      "cell_type": "markdown",
      "metadata": {
        "id": "CxmDMK4yupqg"
      },
      "source": [
        "# Object Detection\n"
      ]
    },
    {
      "cell_type": "markdown",
      "metadata": {
        "id": "Sy553YSVmYiK"
      },
      "source": [
        "This Colab demonstrates use of a TF-Hub module trained to perform object detection."
      ]
    },
    {
      "cell_type": "markdown",
      "metadata": {
        "id": "v4XGxDrCkeip"
      },
      "source": [
        "## Setup\n"
      ]
    },
    {
      "cell_type": "markdown",
      "metadata": {
        "id": "ZGkrXGy62409"
      },
      "source": [
        "## Example use"
      ]
    },
    {
      "cell_type": "code",
      "execution_count": null,
      "metadata": {
        "execution": {
          "iopub.execute_input": "2022-12-14T13:13:10.314861Z",
          "iopub.status.busy": "2022-12-14T13:13:10.314334Z",
          "iopub.status.idle": "2022-12-14T13:13:15.611779Z",
          "shell.execute_reply": "2022-12-14T13:13:15.611060Z"
        },
        "id": "6cPY9Ou4sWs_"
      },
      "outputs": [],
      "source": [
        "#@title Imports and function definitions\n",
        "import tensorflow_hub as hub\n",
        "import cv2\n",
        "# For running inference on the TF-Hub module （在TF-HUB Model上可以跑指令）\n",
        "import tensorflow as tf\n",
        "\n",
        "import tensorflow_hub as hub\n",
        "\n",
        "# For downloading the image.\n",
        "import matplotlib.pyplot as plt\n",
        "import tempfile\n",
        "from six.moves.urllib.request import urlopen\n",
        "from six import BytesIO\n",
        "\n",
        "# For drawing onto the image.可以在圖片上加上顏色、字體\n",
        "# PIL(Pillow)是 Python 中著名的影像處理套件\n",
        "import numpy as np\n",
        "from PIL import Image\n",
        "from PIL import ImageColor\n",
        "from PIL import ImageDraw\n",
        "from PIL import ImageFont\n",
        "from PIL import ImageOps\n",
        "\n",
        "# For measuring the inference time. 計算推理時間\n",
        "import time\n",
        "\n",
        "# Print Tensorflow version 檢查版本\n",
        "print(tf.__version__)\n",
        "\n",
        "# Check available GPU devices. 檢查GPU是否可用\n",
        "print(\"The following GPU devices are available: %s\" % tf.test.gpu_device_name())"
      ]
    },
    {
      "cell_type": "code",
      "execution_count": null,
      "metadata": {
        "execution": {
          "iopub.execute_input": "2022-12-14T13:13:15.616472Z",
          "iopub.status.busy": "2022-12-14T13:13:15.615756Z",
          "iopub.status.idle": "2022-12-14T13:13:15.628513Z",
          "shell.execute_reply": "2022-12-14T13:13:15.627858Z"
        },
        "id": "D9IwDpOtpIHW"
      },
      "outputs": [],
      "source": [
        "# Display an image inside the notebook\n",
        "# This is used by download_and_resized_image()\n",
        "#功能是用來顯示圖片的，且會在download_and_resize_image()被使用\n",
        "def display_image(image):\n",
        "  fig = plt.figure(figsize=(20, 15))\n",
        "  plt.grid(False)#plt.grid 用於配置網格線\n",
        "  plt.imshow(image)#plt.imshow 顯示圖片\n",
        "\n",
        "\n",
        "   \n",
        "#獲取線上或本地端存儲的圖像，調整大小並保存在本地端    \n",
        "def download_and_resize_image(url, new_width=256, new_height=256,\n",
        "                              display=False):\n",
        "#url_path (string) -- 鏈接到圖像或本地存儲圖像的路徑\n",
        "#new_width (int) -- 用於調整圖像寬度的像素大小\n",
        "#new_height (int) -- 用於調整圖像長度的像素大小\n",
        "#Returns:\n",
        "    #(string) -- 保存圖像的路徑\n",
        "\n",
        "\n",
        "  _, filename = tempfile.mkstemp(suffix=\".jpg\") #創建一個以“.jpg”結尾的暫時檔案 \n",
        "\n",
        "  response = urlopen(url)# urlopen()打開給定的URL\n",
        "  image_data = response.read() #response.read()讀取從 URL 中獲取的圖像 \n",
        "  image_data = BytesIO(image_data) #BytesIO()將圖像數據放入內存緩衝區\n",
        "  pil_image = Image.open(image_data) # Image.open打開圖片\n",
        "\n",
        "  # ImageOps.fit()調整圖像大小。如果寬高比不同，將會被裁剪。\n",
        "  pil_image = ImageOps.fit(pil_image, (new_width, new_height), Image.ANTIALIAS)\n",
        "  #  pil_image.convert()轉換為RGB色彩模式\n",
        "  pil_image_rgb = pil_image.convert(\"RGB\")\n",
        "  # pill_image_rgb.save()將圖像保存到之前創建的臨時file中\n",
        "  pil_image_rgb.save(filename, format=\"JPEG\", quality=90)\n",
        "  print(\"Image downloaded to %s.\" % filename)\n",
        "  if display:\n",
        "    display_image(pil_image)\n",
        "  return filename\n",
        "\n",
        "##Adds a bounding box to an image.在圖片上加上\n",
        "def draw_bounding_box_on_image(image,# a cv2 object\n",
        "                               ymin,#ymin of bounding box.\n",
        "                               xmin,#xmin: xmin of bounding box\n",
        "                               ymax,#ymax: ymax of bounding box\n",
        "                               xmax,#xmax: xmax of bounding box.\n",
        "                               color,#框框的顏色\n",
        "                               font,\n",
        "                               thickness=3,#thickness: line thickness匡線粗度\n",
        "                               display_str_list=()):\n",
        "                              #要在框中顯示的字符串列表\n",
        "\n",
        "  draw = ImageDraw.Draw(image)\n",
        "  im_width, im_height = image.size#獲取圖像的寬度與高度\n",
        "  (left, right, top, bottom) = (xmin * im_width, xmax * im_width,\n",
        "                                ymin * im_height, ymax * im_height)\n",
        "  #繪製box框\n",
        "  draw.line([(left, top), (left, bottom), (right, bottom), (right, top),\n",
        "             (left, top)],\n",
        "            width=thickness,\n",
        "            fill=color)\n",
        "\n",
        " #如果添加到邊界框頂部的顯示字符串的總高度超過了圖像的頂部,則將字符串堆疊在邊界框下方而不是上方\n",
        "  display_str_heights = [font.getsize(ds)[1] for ds in display_str_list]\n",
        "  #每個 display_str 的頂部和底部邊距為 0.05x.\n",
        "  total_display_str_height = (1 + 2 * 0.05) * sum(display_str_heights)\n",
        "\n",
        "  if top > total_display_str_height:\n",
        "    text_bottom = top\n",
        "  else:\n",
        "    text_bottom = top + total_display_str_height\n",
        "  # Reverse list and print from bottom to top.\n",
        "  for display_str in display_str_list[::-1]:\n",
        "    text_width, text_height = font.getsize(display_str)\n",
        "    margin = np.ceil(0.05 * text_height)\n",
        "    #draw.rectangle()繪製文字背景匡\n",
        "    draw.rectangle([(left, text_bottom - text_height - 2 * margin),\n",
        "                    (left + text_width, text_bottom)],\n",
        "                   fill=color)\n",
        "    #draw.text()繪製文字\n",
        "    draw.text((left + margin, text_bottom - text_height - margin),\n",
        "              display_str,\n",
        "              fill=\"black\",\n",
        "              font=font)\n",
        "    text_bottom -= text_height - 2 * margin\n",
        "\n",
        "#draw_boxes():用格式化的分數和標籤名稱在圖像上疊加標籤框\n",
        "def draw_boxes(image, boxes, class_names, scores, max_boxes=10, min_score=0.1):\n",
        "# image 圖像作為 numpy array\n",
        "# boxes: list of detection boxes\n",
        "# class_names: 每個檢測到的對象的類別\n",
        "# scores :顯示模型檢測該對象的信心的數字(覺得幾成準確)\n",
        "# max_boxes：覆蓋在圖像上的最大檢測框（默認為 10）\n",
        "# min_score:顯示邊界框所需的最低分數\n",
        "# return image:檢測框和類覆蓋在原始圖像上之後的圖像。\n",
        "  colors = list(ImageColor.colormap.values())\n",
        "\n",
        "  try:\n",
        "    font = ImageFont.truetype(\"/usr/share/fonts/truetype/liberation/LiberationSansNarrow-Regular.ttf\",\n",
        "                              25)\n",
        "  except IOError:\n",
        "    print(\"Font not found, using default font.\")\n",
        "    font = ImageFont.load_default()\n",
        "\n",
        "  for i in range(min(boxes.shape[0], max_boxes)):\n",
        "    if scores[i] >= min_score:\n",
        "      ymin, xmin, ymax, xmax = tuple(boxes[i])\n",
        "      display_str = \"{}: {}%\".format(class_names[i].decode(\"ascii\"),\n",
        "                                     int(100 * scores[i]))\n",
        "      color = colors[hash(class_names[i]) % len(colors)]\n",
        "      image_pil = Image.fromarray(np.uint8(image)).convert(\"RGB\")\n",
        "      #繪製一個邊界框並將類標籤疊加到圖像上\n",
        "      draw_bounding_box_on_image(\n",
        "          image_pil,\n",
        "          ymin,\n",
        "          xmin,\n",
        "          ymax,\n",
        "          xmax,\n",
        "          color,\n",
        "          font,\n",
        "          display_str_list=[display_str])\n",
        "      np.copyto(image, np.array(image_pil))\n",
        "  return image"
      ]
    },
    {
      "cell_type": "markdown",
      "metadata": {
        "id": "D19UCu9Q2-_8"
      },
      "source": [
        "## Apply module\n",
        "\n",
        "Load a public image from Open Images v4, save locally, and display."
      ]
    },
    {
      "cell_type": "code",
      "execution_count": null,
      "metadata": {
        "execution": {
          "iopub.execute_input": "2022-12-14T13:13:15.631889Z",
          "iopub.status.busy": "2022-12-14T13:13:15.631258Z",
          "iopub.status.idle": "2022-12-14T13:13:17.438729Z",
          "shell.execute_reply": "2022-12-14T13:13:17.438055Z"
        },
        "id": "YLWNhjUY1mhg"
      },
      "outputs": [],
      "source": [
        "# By Heiko Gorski, Source: https://commons.wikimedia.org/wiki/File:Naxos_Taverna.jpg\n",
        "image_url = \"https://upload.wikimedia.org/wikipedia/commons/6/60/Naxos_Taverna.jpg\"  #@param\n",
        "downloaded_image_path = download_and_resize_image(image_url, 1280, 856, True)"
      ]
    },
    {
      "cell_type": "markdown",
      "metadata": {
        "id": "t-VdfLbC1w51"
      },
      "source": [
        "Pick an object detection module and apply on the downloaded image. Modules:\n",
        "* **FasterRCNN+InceptionResNet V2**: high accuracy,\n",
        "* **ssd+mobilenet V2**: small and fast."
      ]
    },
    {
      "cell_type": "code",
      "execution_count": null,
      "metadata": {
        "execution": {
          "iopub.execute_input": "2022-12-14T13:13:17.493144Z",
          "iopub.status.busy": "2022-12-14T13:13:17.492325Z",
          "iopub.status.idle": "2022-12-14T13:14:28.764851Z",
          "shell.execute_reply": "2022-12-14T13:14:28.764050Z"
        },
        "id": "uazJ5ASc2_QE"
      },
      "outputs": [],
      "source": [
        "# link to the model that we want to use\n",
        "module_handle = \"https://tfhub.dev/google/faster_rcnn/openimages_v4/inception_resnet_v2/1\" #@param [\"https://tfhub.dev/google/openimages_v4/ssd/mobilenet_v2/1\", \"https://tfhub.dev/google/faster_rcnn/openimages_v4/inception_resnet_v2/1\"]\n",
        "\n",
        "detector = hub.load(module_handle).signatures['default']"
      ]
    },
    {
      "cell_type": "code",
      "source": [
        "width = 800\n",
        "height = 600"
      ],
      "metadata": {
        "id": "0zuOVB1k7POL"
      },
      "execution_count": null,
      "outputs": []
    },
    {
      "cell_type": "code",
      "execution_count": null,
      "metadata": {
        "execution": {
          "iopub.execute_input": "2022-12-14T13:14:28.769381Z",
          "iopub.status.busy": "2022-12-14T13:14:28.768640Z",
          "iopub.status.idle": "2022-12-14T13:14:28.772534Z",
          "shell.execute_reply": "2022-12-14T13:14:28.771948Z"
        },
        "id": "znW8Fq1EC0x7"
      },
      "outputs": [],
      "source": [
        "def load_img(path):#下載 JPEG 圖像並將其轉換為張量。\n",
        "  img = tf.io.read_file(path)#讀檔案\n",
        "  img = tf.image.decode_jpeg(img, channels=3)#轉換為張量\n",
        "  return img"
      ]
    },
    {
      "cell_type": "code",
      "execution_count": null,
      "metadata": {
        "execution": {
          "iopub.execute_input": "2022-12-14T13:14:28.775522Z",
          "iopub.status.busy": "2022-12-14T13:14:28.775051Z",
          "iopub.status.idle": "2022-12-14T13:14:28.779907Z",
          "shell.execute_reply": "2022-12-14T13:14:28.779319Z"
        },
        "id": "kwGJV96WWBLH"
      },
      "outputs": [],
      "source": [
        "#使用物件檢測模型對本機文件進行推測\n",
        "def run_detector(detector, path):\n",
        "  img = load_img(path)#從本地文件路徑下載圖像張量\n",
        "\n",
        "  #在張量前面添加一個批次維度\n",
        "  converted_img  = tf.image.convert_image_dtype(img, tf.float32)[tf.newaxis, ...]\n",
        "\n",
        "  #使用模型運行推理\n",
        "  start_time = time.time()\n",
        "  result = detector(converted_img)\n",
        "  end_time = time.time()\n",
        "\n",
        "  #將結果保存在字典中\n",
        "  result = {key:value.numpy() for key,value in result.items()}\n",
        "\n",
        "  #印出結果\n",
        "  print(\"Found %d objects.\" % len(result[\"detection_scores\"]))\n",
        "  print(\"Inference time: \", end_time-start_time)\n",
        "\n",
        "  #在圖像上繪製預測框\n",
        "  image_with_boxes = draw_boxes(\n",
        "      img.numpy(), result[\"detection_boxes\"],\n",
        "      result[\"detection_class_entities\"], result[\"detection_scores\"])\n",
        "  #展示圖像\n",
        "  display_image(image_with_boxes)"
      ]
    },
    {
      "cell_type": "code",
      "execution_count": null,
      "metadata": {
        "execution": {
          "iopub.execute_input": "2022-12-14T13:14:28.782761Z",
          "iopub.status.busy": "2022-12-14T13:14:28.782295Z",
          "iopub.status.idle": "2022-12-14T13:15:14.601704Z",
          "shell.execute_reply": "2022-12-14T13:15:14.600922Z"
        },
        "id": "vchaUW1XDodD"
      },
      "outputs": [],
      "source": [
        "run_detector(detector, downloaded_image_path)"
      ]
    },
    {
      "cell_type": "markdown",
      "metadata": {
        "id": "WUUY3nfRX7VF"
      },
      "source": [
        "### More images\n",
        "Perform inference on some additional images with time tracking.\n"
      ]
    },
    {
      "cell_type": "code",
      "execution_count": null,
      "metadata": {
        "execution": {
          "iopub.execute_input": "2022-12-14T13:15:14.650363Z",
          "iopub.status.busy": "2022-12-14T13:15:14.649830Z",
          "iopub.status.idle": "2022-12-14T13:15:14.654677Z",
          "shell.execute_reply": "2022-12-14T13:15:14.654072Z"
        },
        "id": "rubdr2JXfsa1"
      },
      "outputs": [],
      "source": [
        "image_urls = [\n",
        "  # Source: https://commons.wikimedia.org/wiki/File:The_Coleoptera_of_the_British_islands_(Plate_125)_(8592917784).jpg\n",
        "  \"https://upload.wikimedia.org/wikipedia/commons/1/1b/The_Coleoptera_of_the_British_islands_%28Plate_125%29_%288592917784%29.jpg\",\n",
        "  # By Américo Toledano, Source: https://commons.wikimedia.org/wiki/File:Biblioteca_Maim%C3%B3nides,_Campus_Universitario_de_Rabanales_007.jpg\n",
        "  \"https://upload.wikimedia.org/wikipedia/commons/thumb/0/0d/Biblioteca_Maim%C3%B3nides%2C_Campus_Universitario_de_Rabanales_007.jpg/1024px-Biblioteca_Maim%C3%B3nides%2C_Campus_Universitario_de_Rabanales_007.jpg\",\n",
        "  # Source: https://commons.wikimedia.org/wiki/File:The_smaller_British_birds_(8053836633).jpg\n",
        "  \"https://upload.wikimedia.org/wikipedia/commons/0/09/The_smaller_British_birds_%288053836633%29.jpg\",\n",
        "  \n",
        "  ]\n",
        "\n",
        "def detect_img(image_url):#和run_detector()相似\n",
        "  start_time = time.time()\n",
        "  image_path = download_and_resize_image(image_url, 740, 480)\n",
        "  run_detector(detector, image_path)\n",
        "  end_time = time.time()\n",
        "  print(\"Inference time:\",end_time-start_time)"
      ]
    },
    {
      "cell_type": "code",
      "execution_count": null,
      "metadata": {
        "execution": {
          "iopub.execute_input": "2022-12-14T13:15:14.657812Z",
          "iopub.status.busy": "2022-12-14T13:15:14.657310Z",
          "iopub.status.idle": "2022-12-14T13:15:17.220474Z",
          "shell.execute_reply": "2022-12-14T13:15:17.219806Z"
        },
        "id": "otPnrxMKIrj5"
      },
      "outputs": [],
      "source": [
        "detect_img(image_urls[0])"
      ]
    },
    {
      "cell_type": "code",
      "execution_count": null,
      "metadata": {
        "execution": {
          "iopub.execute_input": "2022-12-14T13:15:17.237363Z",
          "iopub.status.busy": "2022-12-14T13:15:17.236801Z",
          "iopub.status.idle": "2022-12-14T13:15:19.395552Z",
          "shell.execute_reply": "2022-12-14T13:15:19.394871Z"
        },
        "id": "H5F7DkD5NtOx"
      },
      "outputs": [],
      "source": [
        "detect_img(image_urls[1])"
      ]
    },
    {
      "cell_type": "code",
      "execution_count": null,
      "metadata": {
        "execution": {
          "iopub.execute_input": "2022-12-14T13:15:19.421247Z",
          "iopub.status.busy": "2022-12-14T13:15:19.420702Z",
          "iopub.status.idle": "2022-12-14T13:15:21.848729Z",
          "shell.execute_reply": "2022-12-14T13:15:21.847950Z"
        },
        "id": "DZ18R7dWNyoU"
      },
      "outputs": [],
      "source": [
        "detect_img(image_urls[2])"
      ]
    },
    {
      "cell_type": "code",
      "execution_count": null,
      "metadata": {
        "id": "5iYhVaKZZvAF"
      },
      "outputs": [],
      "source": [
        "image_urls_new = ['https://cdn25.img.ria.ru/images/07e4/03/19/1569112614_0:158:3079:1890_600x0_80_0_0_321c57669c44ac781c4105086f65f3f5.jpg',\n",
        "                  'https://s0.rbk.ru/v6_top_pics/media/img/8/13/755906455134138.jpg',\n",
        "                  'https://upload.wikimedia.org/wikipedia/commons/thumb/9/9e/Macropus_giganteus_-_Brunkerville.jpg/1200px-Macropus_giganteus_-_Brunkerville.jpg']"
      ]
    },
    {
      "cell_type": "code",
      "execution_count": null,
      "metadata": {
        "id": "MS7YRBSzZvAF"
      },
      "outputs": [],
      "source": [
        "def detect_img_new(image_url):\n",
        "  start_time = time.time()\n",
        "  image_path = download_and_resize_image(image_url, 740, 600)\n",
        "  run_detector(detector, image_path)\n",
        "  end_time = time.time()\n",
        "  print(\"Inference time:\",end_time-start_time)"
      ]
    },
    {
      "cell_type": "code",
      "execution_count": null,
      "metadata": {
        "id": "8d7s-BiaZvAF"
      },
      "outputs": [],
      "source": [
        "\n",
        "detect_img_new(image_urls_new[0])"
      ]
    },
    {
      "cell_type": "code",
      "execution_count": null,
      "metadata": {
        "id": "czUcPWgJZvAF"
      },
      "outputs": [],
      "source": [
        "detect_img_new(image_urls_new[1])"
      ]
    },
    {
      "cell_type": "code",
      "source": [
        "detect_img_new(image_urls_new[2])"
      ],
      "metadata": {
        "id": "VppsZJPV-XkJ"
      },
      "execution_count": null,
      "outputs": []
    }
  ],
  "metadata": {
    "accelerator": "GPU",
    "colab": {
      "private_outputs": true,
      "provenance": []
    },
    "kernelspec": {
      "display_name": "Python 3 (ipykernel)",
      "language": "python",
      "name": "python3"
    },
    "language_info": {
      "codemirror_mode": {
        "name": "ipython",
        "version": 3
      },
      "file_extension": ".py",
      "mimetype": "text/x-python",
      "name": "python",
      "nbconvert_exporter": "python",
      "pygments_lexer": "ipython3",
      "version": "3.10.4"
    }
  },
  "nbformat": 4,
  "nbformat_minor": 0
}