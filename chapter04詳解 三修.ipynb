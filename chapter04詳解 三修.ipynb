{
 "cells": [
  {
   "cell_type": "markdown",
   "metadata": {
    "colab_type": "text"
   },
   "source": [
    "This is a companion notebook for the book [Deep Learning with Python, Second Edition](https://www.manning.com/books/deep-learning-with-python-second-edition?a_aid=keras&a_bid=76564dff). For readability, it only contains runnable code blocks and section titles, and omits everything else in the book: text paragraphs, figures, and pseudocode.\n",
    "\n",
    "**If you want to be able to follow what's going on, I recommend reading the notebook side by side with your copy of the book.**\n",
    "\n",
    "This notebook was generated for TensorFlow 2.6."
   ]
  },
  {
   "cell_type": "markdown",
   "metadata": {
    "colab_type": "text"
   },
   "source": [
    "# Getting started with neural networks: Classification and regression"
   ]
  },
  {
   "cell_type": "markdown",
   "metadata": {
    "colab_type": "text"
   },
   "source": [
    "## Classifying movie reviews: A binary classification example"
   ]
  },
  {
   "cell_type": "markdown",
   "metadata": {
    "colab_type": "text"
   },
   "source": [
    "### The IMDB dataset"
   ]
  },
  {
   "cell_type": "markdown",
   "metadata": {
    "colab_type": "text"
   },
   "source": [
    "**Loading the IMDB dataset**"
   ]
  },
  {
   "cell_type": "code",
   "execution_count": 3,
   "metadata": {
    "colab_type": "code"
   },
   "outputs": [],
   "source": [
    "from tensorflow.keras.datasets import imdb#下載IMDB數據集\n",
    "(train_data, train_labels), (test_data, test_labels) = imdb.load_data(\n",
    "    num_words=10000)#參數num_words=10000表示數據集保留了最常出現的10,000個單詞"
   ]
  },
  {
   "cell_type": "code",
   "execution_count": 4,
   "metadata": {
    "colab_type": "code"
   },
   "outputs": [
    {
     "data": {
      "text/plain": [
       "[1,\n",
       " 14,\n",
       " 22,\n",
       " 16,\n",
       " 43,\n",
       " 530,\n",
       " 973,\n",
       " 1622,\n",
       " 1385,\n",
       " 65,\n",
       " 458,\n",
       " 4468,\n",
       " 66,\n",
       " 3941,\n",
       " 4,\n",
       " 173,\n",
       " 36,\n",
       " 256,\n",
       " 5,\n",
       " 25,\n",
       " 100,\n",
       " 43,\n",
       " 838,\n",
       " 112,\n",
       " 50,\n",
       " 670,\n",
       " 2,\n",
       " 9,\n",
       " 35,\n",
       " 480,\n",
       " 284,\n",
       " 5,\n",
       " 150,\n",
       " 4,\n",
       " 172,\n",
       " 112,\n",
       " 167,\n",
       " 2,\n",
       " 336,\n",
       " 385,\n",
       " 39,\n",
       " 4,\n",
       " 172,\n",
       " 4536,\n",
       " 1111,\n",
       " 17,\n",
       " 546,\n",
       " 38,\n",
       " 13,\n",
       " 447,\n",
       " 4,\n",
       " 192,\n",
       " 50,\n",
       " 16,\n",
       " 6,\n",
       " 147,\n",
       " 2025,\n",
       " 19,\n",
       " 14,\n",
       " 22,\n",
       " 4,\n",
       " 1920,\n",
       " 4613,\n",
       " 469,\n",
       " 4,\n",
       " 22,\n",
       " 71,\n",
       " 87,\n",
       " 12,\n",
       " 16,\n",
       " 43,\n",
       " 530,\n",
       " 38,\n",
       " 76,\n",
       " 15,\n",
       " 13,\n",
       " 1247,\n",
       " 4,\n",
       " 22,\n",
       " 17,\n",
       " 515,\n",
       " 17,\n",
       " 12,\n",
       " 16,\n",
       " 626,\n",
       " 18,\n",
       " 2,\n",
       " 5,\n",
       " 62,\n",
       " 386,\n",
       " 12,\n",
       " 8,\n",
       " 316,\n",
       " 8,\n",
       " 106,\n",
       " 5,\n",
       " 4,\n",
       " 2223,\n",
       " 5244,\n",
       " 16,\n",
       " 480,\n",
       " 66,\n",
       " 3785,\n",
       " 33,\n",
       " 4,\n",
       " 130,\n",
       " 12,\n",
       " 16,\n",
       " 38,\n",
       " 619,\n",
       " 5,\n",
       " 25,\n",
       " 124,\n",
       " 51,\n",
       " 36,\n",
       " 135,\n",
       " 48,\n",
       " 25,\n",
       " 1415,\n",
       " 33,\n",
       " 6,\n",
       " 22,\n",
       " 12,\n",
       " 215,\n",
       " 28,\n",
       " 77,\n",
       " 52,\n",
       " 5,\n",
       " 14,\n",
       " 407,\n",
       " 16,\n",
       " 82,\n",
       " 2,\n",
       " 8,\n",
       " 4,\n",
       " 107,\n",
       " 117,\n",
       " 5952,\n",
       " 15,\n",
       " 256,\n",
       " 4,\n",
       " 2,\n",
       " 7,\n",
       " 3766,\n",
       " 5,\n",
       " 723,\n",
       " 36,\n",
       " 71,\n",
       " 43,\n",
       " 530,\n",
       " 476,\n",
       " 26,\n",
       " 400,\n",
       " 317,\n",
       " 46,\n",
       " 7,\n",
       " 4,\n",
       " 2,\n",
       " 1029,\n",
       " 13,\n",
       " 104,\n",
       " 88,\n",
       " 4,\n",
       " 381,\n",
       " 15,\n",
       " 297,\n",
       " 98,\n",
       " 32,\n",
       " 2071,\n",
       " 56,\n",
       " 26,\n",
       " 141,\n",
       " 6,\n",
       " 194,\n",
       " 7486,\n",
       " 18,\n",
       " 4,\n",
       " 226,\n",
       " 22,\n",
       " 21,\n",
       " 134,\n",
       " 476,\n",
       " 26,\n",
       " 480,\n",
       " 5,\n",
       " 144,\n",
       " 30,\n",
       " 5535,\n",
       " 18,\n",
       " 51,\n",
       " 36,\n",
       " 28,\n",
       " 224,\n",
       " 92,\n",
       " 25,\n",
       " 104,\n",
       " 4,\n",
       " 226,\n",
       " 65,\n",
       " 16,\n",
       " 38,\n",
       " 1334,\n",
       " 88,\n",
       " 12,\n",
       " 16,\n",
       " 283,\n",
       " 5,\n",
       " 16,\n",
       " 4472,\n",
       " 113,\n",
       " 103,\n",
       " 32,\n",
       " 15,\n",
       " 16,\n",
       " 5345,\n",
       " 19,\n",
       " 178,\n",
       " 32]"
      ]
     },
     "execution_count": 4,
     "metadata": {},
     "output_type": "execute_result"
    }
   ],
   "source": [
    "train_data[0]#評論文本已轉換為整數數組，每個整數表示字典中的特定單詞。以下是第一篇評論文本轉換後的形式："
   ]
  },
  {
   "cell_type": "code",
   "execution_count": 5,
   "metadata": {
    "colab_type": "code"
   },
   "outputs": [
    {
     "data": {
      "text/plain": [
       "0"
      ]
     },
     "execution_count": 5,
     "metadata": {},
     "output_type": "execute_result"
    }
   ],
   "source": [
    "train_labels[1]"
   ]
  },
  {
   "cell_type": "code",
   "execution_count": 6,
   "metadata": {
    "colab_type": "code"
   },
   "outputs": [
    {
     "data": {
      "text/plain": [
       "9999"
      ]
     },
     "execution_count": 6,
     "metadata": {},
     "output_type": "execute_result"
    }
   ],
   "source": [
    "max([max(sequence) for sequence in train_data])\n"
   ]
  },
  {
   "cell_type": "code",
   "execution_count": 7,
   "metadata": {},
   "outputs": [
    {
     "data": {
      "text/plain": [
       "1"
      ]
     },
     "execution_count": 7,
     "metadata": {},
     "output_type": "execute_result"
    }
   ],
   "source": [
    "#修改處\n",
    "min([min(sequence) for sequence in train_data])"
   ]
  },
  {
   "cell_type": "markdown",
   "metadata": {
    "colab_type": "text"
   },
   "source": [
    "**Decoding reviews back to text**"
   ]
  },
  {
   "cell_type": "code",
   "execution_count": 8,
   "metadata": {
    "colab_type": "code"
   },
   "outputs": [],
   "source": [
    "#word_index 是一個將單詞映射爲整數索引的字典\n",
    "word_index = imdb.get_word_index()\n",
    "#鍵值顛倒，將整數索引映射爲單詞\n",
    "reverse_word_index = dict(\n",
    "    [(value, key) for (key, value) in word_index.items()])\n",
    "#將評論解碼。注意，索引減去了 3，因爲 0、1、2是爲“padding”（填充）、\n",
    "#“start of sequence”（序列開始）、“unknown”（未知詞）分別保留的索引\n",
    "decoded_review = \" \".join(\n",
    "    [reverse_word_index.get(i - 3, \"?\") for i in train_data[0]])"
   ]
  },
  {
   "cell_type": "markdown",
   "metadata": {
    "colab_type": "text"
   },
   "source": [
    "### Preparing the data"
   ]
  },
  {
   "cell_type": "markdown",
   "metadata": {
    "colab_type": "text"
   },
   "source": [
    "**Encoding the integer sequences via multi-hot encoding**"
   ]
  },
  {
   "cell_type": "code",
   "execution_count": 9,
   "metadata": {
    "colab_type": "code"
   },
   "outputs": [],
   "source": [
    "\n",
    "#將整數序列編碼爲二進制矩陣\n",
    "import numpy as np\n",
    "def vectorize_sequences(sequences, dimension=10000):\n",
    "    results = np.zeros((len(sequences), dimension))\n",
    "    for i, sequence in enumerate(sequences):\n",
    "        for j in sequence:\n",
    "            results[i, j] = 1.\n",
    "    return results"
   ]
  },
  {
   "cell_type": "code",
   "execution_count": 10,
   "metadata": {},
   "outputs": [],
   "source": [
    "x_train = vectorize_sequences(train_data)\n",
    "x_test = vectorize_sequences(test_data)"
   ]
  },
  {
   "cell_type": "code",
   "execution_count": 11,
   "metadata": {
    "colab_type": "code"
   },
   "outputs": [
    {
     "data": {
      "text/plain": [
       "array([0., 1., 1., ..., 0., 0., 0.])"
      ]
     },
     "execution_count": 11,
     "metadata": {},
     "output_type": "execute_result"
    }
   ],
   "source": [
    "x_train[0]"
   ]
  },
  {
   "cell_type": "code",
   "execution_count": 12,
   "metadata": {},
   "outputs": [
    {
     "data": {
      "text/plain": [
       "(25000, 10000)"
      ]
     },
     "execution_count": 12,
     "metadata": {},
     "output_type": "execute_result"
    }
   ],
   "source": [
    "x_train.shape"
   ]
  },
  {
   "cell_type": "code",
   "execution_count": 13,
   "metadata": {
    "colab_type": "code"
   },
   "outputs": [],
   "source": [
    "y_train = np.asarray(train_labels).astype(\"float32\")\n",
    "y_test = np.asarray(test_labels).astype(\"float32\")"
   ]
  },
  {
   "cell_type": "markdown",
   "metadata": {
    "colab_type": "text"
   },
   "source": [
    "### Building your model"
   ]
  },
  {
   "cell_type": "markdown",
   "metadata": {
    "colab_type": "text"
   },
   "source": [
    "**Model definition**"
   ]
  },
  {
   "cell_type": "code",
   "execution_count": 14,
   "metadata": {
    "colab_type": "code"
   },
   "outputs": [
    {
     "name": "stderr",
     "output_type": "stream",
     "text": [
      "2022-11-12 18:44:41.074573: I tensorflow/core/platform/cpu_feature_guard.cc:193] This TensorFlow binary is optimized with oneAPI Deep Neural Network Library (oneDNN) to use the following CPU instructions in performance-critical operations:  SSE4.1 SSE4.2\n",
      "To enable them in other operations, rebuild TensorFlow with the appropriate compiler flags.\n"
     ]
    }
   ],
   "source": [
    "#構建網絡\n",
    "from tensorflow import keras\n",
    "from tensorflow.keras import layers\n",
    "\n",
    "model = keras.Sequential([\n",
    "    layers.Dense(16, activation=\"relu\"),\n",
    "    layers.Dense(16, activation=\"relu\"),\n",
    "    layers.Dense(1, activation=\"sigmoid\")\n",
    "])"
   ]
  },
  {
   "cell_type": "markdown",
   "metadata": {
    "colab_type": "text"
   },
   "source": [
    "**Compiling the model**"
   ]
  },
  {
   "cell_type": "code",
   "execution_count": 15,
   "metadata": {
    "colab_type": "code"
   },
   "outputs": [],
   "source": [
    "#設置模型的損失函數、優化器、評估標準\n",
    "#優化器配置可以寫成字符串形式\n",
    "#定義的第一個東西是optimizer,\n",
    "#也就是說你要用什麼樣的方式來找最好的function，雖然optimizer後面可以皆不同的方式，\n",
    "#但是這些不同的方式，其實都是gradient descent 類似的方法\n",
    "model.compile(optimizer=\"rmsprop\",\n",
    "              loss=\"binary_crossentropy\",\n",
    "              metrics=[\"accuracy\"])"
   ]
  },
  {
   "cell_type": "markdown",
   "metadata": {
    "colab_type": "text"
   },
   "source": [
    "### Validating your approach"
   ]
  },
  {
   "cell_type": "markdown",
   "metadata": {
    "colab_type": "text"
   },
   "source": [
    "**Setting aside a validation set**"
   ]
  },
  {
   "cell_type": "code",
   "execution_count": 19,
   "metadata": {},
   "outputs": [],
   "source": [
    "#取訓練集向量化後的數據x_train的前10000個數據  \n",
    "x_val = x_train[:10000]# 餘下的數據\n",
    "partial_x_train = x_train[10000:]\n",
    "# 取訓練集向量化後的標籤one_hot_train_labels 的前10000個標籤\n",
    "y_val = y_train[:10000]\n",
    "partial_y_train = y_train[10000:]# 餘下的標籤"
   ]
  },
  {
   "cell_type": "markdown",
   "metadata": {
    "colab_type": "text"
   },
   "source": [
    "**Training your model**"
   ]
  },
  {
   "cell_type": "code",
   "execution_count": 20,
   "metadata": {
    "colab_type": "code"
   },
   "outputs": [
    {
     "name": "stdout",
     "output_type": "stream",
     "text": [
      "Epoch 1/20\n",
      "30/30 [==============================] - 2s 49ms/step - loss: 0.5440 - accuracy: 0.7743 - val_loss: 0.4116 - val_accuracy: 0.8621\n",
      "Epoch 2/20\n",
      "30/30 [==============================] - 1s 25ms/step - loss: 0.3264 - accuracy: 0.8981 - val_loss: 0.3275 - val_accuracy: 0.8784\n",
      "Epoch 3/20\n",
      "30/30 [==============================] - 1s 18ms/step - loss: 0.2329 - accuracy: 0.9265 - val_loss: 0.2857 - val_accuracy: 0.8865\n",
      "Epoch 4/20\n",
      "30/30 [==============================] - 1s 20ms/step - loss: 0.1839 - accuracy: 0.9413 - val_loss: 0.2815 - val_accuracy: 0.8872\n",
      "Epoch 5/20\n",
      "30/30 [==============================] - 1s 20ms/step - loss: 0.1495 - accuracy: 0.9521 - val_loss: 0.2818 - val_accuracy: 0.8865\n",
      "Epoch 6/20\n",
      "30/30 [==============================] - 1s 19ms/step - loss: 0.1190 - accuracy: 0.9649 - val_loss: 0.3035 - val_accuracy: 0.8833\n",
      "Epoch 7/20\n",
      "30/30 [==============================] - 1s 20ms/step - loss: 0.0996 - accuracy: 0.9710 - val_loss: 0.3060 - val_accuracy: 0.8841\n",
      "Epoch 8/20\n",
      "30/30 [==============================] - 1s 19ms/step - loss: 0.0816 - accuracy: 0.9767 - val_loss: 0.3448 - val_accuracy: 0.8796\n",
      "Epoch 9/20\n",
      "30/30 [==============================] - 1s 19ms/step - loss: 0.0661 - accuracy: 0.9819 - val_loss: 0.3574 - val_accuracy: 0.8799\n",
      "Epoch 10/20\n",
      "30/30 [==============================] - 1s 23ms/step - loss: 0.0534 - accuracy: 0.9873 - val_loss: 0.3879 - val_accuracy: 0.8746\n",
      "Epoch 11/20\n",
      "30/30 [==============================] - 1s 21ms/step - loss: 0.0454 - accuracy: 0.9893 - val_loss: 0.3996 - val_accuracy: 0.8755\n",
      "Epoch 12/20\n",
      "30/30 [==============================] - 1s 20ms/step - loss: 0.0327 - accuracy: 0.9936 - val_loss: 0.4349 - val_accuracy: 0.8720\n",
      "Epoch 13/20\n",
      "30/30 [==============================] - 1s 19ms/step - loss: 0.0285 - accuracy: 0.9944 - val_loss: 0.4663 - val_accuracy: 0.8743\n",
      "Epoch 14/20\n",
      "30/30 [==============================] - 1s 21ms/step - loss: 0.0198 - accuracy: 0.9974 - val_loss: 0.5053 - val_accuracy: 0.8666\n",
      "Epoch 15/20\n",
      "30/30 [==============================] - 1s 22ms/step - loss: 0.0163 - accuracy: 0.9979 - val_loss: 0.5324 - val_accuracy: 0.8689\n",
      "Epoch 16/20\n",
      "30/30 [==============================] - 1s 20ms/step - loss: 0.0121 - accuracy: 0.9987 - val_loss: 0.5709 - val_accuracy: 0.8695\n",
      "Epoch 17/20\n",
      "30/30 [==============================] - 1s 21ms/step - loss: 0.0109 - accuracy: 0.9983 - val_loss: 0.6034 - val_accuracy: 0.8674\n",
      "Epoch 18/20\n",
      "30/30 [==============================] - 1s 21ms/step - loss: 0.0062 - accuracy: 0.9994 - val_loss: 0.6899 - val_accuracy: 0.8563\n",
      "Epoch 19/20\n",
      "30/30 [==============================] - 1s 21ms/step - loss: 0.0045 - accuracy: 0.9998 - val_loss: 0.6673 - val_accuracy: 0.8681\n",
      "Epoch 20/20\n",
      "30/30 [==============================] - 0s 16ms/step - loss: 0.0065 - accuracy: 0.9986 - val_loss: 0.7038 - val_accuracy: 0.8664\n"
     ]
    }
   ],
   "source": [
    "#訓練模型\n",
    "history = model.fit(partial_x_train,\n",
    "                    partial_y_train,\n",
    "                    epochs=20,\n",
    "                    batch_size=512,\n",
    "                    validation_data=(x_val, y_val))"
   ]
  },
  {
   "cell_type": "code",
   "execution_count": 21,
   "metadata": {
    "colab_type": "code"
   },
   "outputs": [
    {
     "data": {
      "text/plain": [
       "dict_keys(['loss', 'accuracy', 'val_loss', 'val_accuracy'])"
      ]
     },
     "execution_count": 21,
     "metadata": {},
     "output_type": "execute_result"
    }
   ],
   "source": [
    "history_dict = history.history\n",
    "history_dict.keys()"
   ]
  },
  {
   "cell_type": "markdown",
   "metadata": {
    "colab_type": "text"
   },
   "source": [
    "**Plotting the training and validation loss**"
   ]
  },
  {
   "cell_type": "code",
   "execution_count": 22,
   "metadata": {
    "colab_type": "code"
   },
   "outputs": [
    {
     "data": {
      "image/png": "[encoded data removed]",
      "text/plain": [
       "<Figure size 640x480 with 1 Axes>"
      ]
     },
     "metadata": {},
     "output_type": "display_data"
    }
   ],
   "source": [
    "#繪製訓練損失和驗證損失\n",
    "import matplotlib.pyplot as plt\n",
    "history_dict = history.history\n",
    "loss_values = history_dict[\"loss\"]\n",
    "val_loss_values = history_dict[\"val_loss\"]\n",
    "epochs = range(1, len(loss_values) + 1)\n",
    "#修正處由藍點點改成紅點點\n",
    "plt.plot(epochs, loss_values, \"ro\", label=\"Training loss\")\n",
    "plt.plot(epochs, val_loss_values, \"b\", label=\"Validation loss\")\n",
    "plt.title(\"Training and validation loss\")\n",
    "plt.xlabel(\"Epochs\")\n",
    "plt.ylabel(\"Loss\")\n",
    "plt.legend()\n",
    "plt.show()"
   ]
  },
  {
   "cell_type": "markdown",
   "metadata": {
    "colab_type": "text"
   },
   "source": [
    "**Plotting the training and validation accuracy**"
   ]
  },
  {
   "cell_type": "code",
   "execution_count": 23,
   "metadata": {
    "colab_type": "code"
   },
   "outputs": [
    {
     "data": {
      "image/png": "[encoded data removed]",
      "text/plain": [
       "<Figure size 640x480 with 1 Axes>"
      ]
     },
     "metadata": {},
     "output_type": "display_data"
    }
   ],
   "source": [
    "#繪製訓練精度和驗證精度\n",
    "plt.clf()\n",
    "acc = history_dict[\"accuracy\"]\n",
    "val_acc = history_dict[\"val_accuracy\"]\n",
    "plt.plot(epochs, acc, \"bo\", label=\"Training acc\")\n",
    "plt.plot(epochs, val_acc, \"b\", label=\"Validation acc\")\n",
    "plt.title(\"Training and validation accuracy\")\n",
    "plt.xlabel(\"Epochs\")\n",
    "plt.ylabel(\"Accuracy\")\n",
    "plt.legend()\n",
    "plt.show()"
   ]
  },
  {
   "cell_type": "markdown",
   "metadata": {
    "colab_type": "text"
   },
   "source": [
    "**Retraining a model from scratch**"
   ]
  },
  {
   "cell_type": "code",
   "execution_count": 40,
   "metadata": {
    "colab_type": "code"
   },
   "outputs": [],
   "source": [
    "#重頭開始重新訓練一個模型\n",
    "model = keras.Sequential([\n",
    "    layers.Dense(64, activation=\"relu\"),\n",
    "    layers.Dense(64, activation=\"relu\"),\n",
    "    layers.Dense(1, activation=\"sigmoid\")\n",
    "    #sigmoid 函數就能使Y的範圍限制在[0,1]之間，中間只有一小段模糊地帶，適合用於二分法(真或偽)。\n",
    "])\n",
    "model.compile(optimizer=\"rmsprop\",\n",
    "              loss=\"binary_crossentropy\",\n",
    "              metrics=[\"accuracy\"])\n"
   ]
  },
  {
   "cell_type": "code",
   "execution_count": 41,
   "metadata": {},
   "outputs": [
    {
     "name": "stdout",
     "output_type": "stream",
     "text": [
      "Epoch 1/9\n",
      "49/49 [==============================] - 1s 17ms/step - loss: 0.4245 - accuracy: 0.8066\n",
      "Epoch 2/9\n",
      "49/49 [==============================] - 1s 15ms/step - loss: 0.2400 - accuracy: 0.9068\n",
      "Epoch 3/9\n",
      "49/49 [==============================] - 1s 15ms/step - loss: 0.1787 - accuracy: 0.9335\n",
      "Epoch 4/9\n",
      "49/49 [==============================] - 1s 15ms/step - loss: 0.1528 - accuracy: 0.9420\n",
      "Epoch 5/9\n",
      "49/49 [==============================] - 1s 16ms/step - loss: 0.1151 - accuracy: 0.9580\n",
      "Epoch 6/9\n",
      "49/49 [==============================] - 1s 15ms/step - loss: 0.0831 - accuracy: 0.9709\n",
      "Epoch 7/9\n",
      "49/49 [==============================] - 1s 16ms/step - loss: 0.0637 - accuracy: 0.9784\n",
      "Epoch 8/9\n",
      "49/49 [==============================] - 1s 15ms/step - loss: 0.0452 - accuracy: 0.9864\n",
      "Epoch 9/9\n",
      "49/49 [==============================] - 1s 15ms/step - loss: 0.0320 - accuracy: 0.9903\n"
     ]
    },
    {
     "data": {
      "text/plain": [
       "<keras.callbacks.History at 0x7f81d819b130>"
      ]
     },
     "execution_count": 41,
     "metadata": {},
     "output_type": "execute_result"
    }
   ],
   "source": [
    "#開始訓練你的Network，使用\"fit\"，就可以用Gradient Descent來訓練你的Network\n",
    "#其中要給它你的訓練資料的輸入還有Label，\n",
    "#\"x_train\"代表圖片，\"y_train\"代表Label，然後再設定Batch size以及Epochs的大小。\n",
    "model.fit(x_train, y_train, epochs=9, batch_size=512)"
   ]
  },
  {
   "cell_type": "code",
   "execution_count": 42,
   "metadata": {},
   "outputs": [
    {
     "name": "stdout",
     "output_type": "stream",
     "text": [
      "782/782 [==============================] - 1s 1ms/step - loss: 0.5597 - accuracy: 0.8674\n"
     ]
    }
   ],
   "source": [
    "#訓練好之後，你要拿這個model來做評估，意思就是說你實際上有測試資料的label，\n",
    "#你只是想要知道你model在測試資料的表現如何，那就使用\"evaluation\"，\n",
    "#只要把測試資料的圖片跟Label給它，它就會幫你計算你的model的正確率\n",
    "results = model.evaluate(x_test, y_test)"
   ]
  },
  {
   "cell_type": "code",
   "execution_count": 43,
   "metadata": {},
   "outputs": [
    {
     "name": "stdout",
     "output_type": "stream",
     "text": [
      "[0.5596511363983154, 0.8673999905586243]\n"
     ]
    }
   ],
   "source": [
    "print(results)#得到約87%的精準度"
   ]
  },
  {
   "cell_type": "markdown",
   "metadata": {
    "colab_type": "text"
   },
   "source": [
    "### Using a trained model to generate predictions on new data"
   ]
  },
  {
   "cell_type": "code",
   "execution_count": 45,
   "metadata": {
    "colab_type": "code"
   },
   "outputs": [
    {
     "name": "stdout",
     "output_type": "stream",
     "text": [
      "782/782 [==============================] - 1s 1ms/step\n",
      "(1,)\n",
      "0.9999996\n",
      "0\n"
     ]
    }
   ],
   "source": [
    "#在新數據上生成預測結果\n",
    "#概率最大的就是最有可能的分類\n",
    "predictions = model.predict(x_test)\n",
    "print(predictions[1].shape)# 查看predictions中的每個元素的shape\n",
    "print(np.sum(predictions[1]))# 一個向量的1維概率總和\n",
    "print(np.argmax(predictions[1]))# 最大的概率就是預測類別\n",
    "#結果說明了：\n",
    "#->"
   ]
  },
  {
   "cell_type": "markdown",
   "metadata": {
    "colab_type": "text"
   },
   "source": [
    "### Further experiments"
   ]
  },
  {
   "cell_type": "markdown",
   "metadata": {
    "colab_type": "text"
   },
   "source": [
    "### Wrapping up"
   ]
  },
  {
   "cell_type": "markdown",
   "metadata": {
    "colab_type": "text"
   },
   "source": [
    "## Classifying newswires: A multiclass classification example"
   ]
  },
  {
   "cell_type": "markdown",
   "metadata": {
    "colab_type": "text"
   },
   "source": [
    "### The Reuters dataset"
   ]
  },
  {
   "cell_type": "markdown",
   "metadata": {
    "colab_type": "text"
   },
   "source": [
    "**Loading the Reuters dataset**"
   ]
  },
  {
   "cell_type": "code",
   "execution_count": 74,
   "metadata": {
    "colab_type": "code"
   },
   "outputs": [],
   "source": [
    "#本節使用路透社數據集，它包含許多短新聞及其對應的主題，由路透社在 1986 年發佈。\n",
    "#它是一個簡單的、廣泛使用的文本分類數據集。它包括 46 個不同的主題：某些主題的樣本更多，但訓練集中每個主題都有至少 10 個樣本。\n",
    "from tensorflow.keras.datasets import reuters\n",
    "(train_data, train_labels), (test_data, test_labels) = reuters.load_data(\n",
    "    num_words=10000)\n"
   ]
  },
  {
   "cell_type": "code",
   "execution_count": 75,
   "metadata": {
    "colab_type": "code"
   },
   "outputs": [
    {
     "data": {
      "text/plain": [
       "8982"
      ]
     },
     "execution_count": 75,
     "metadata": {},
     "output_type": "execute_result"
    }
   ],
   "source": [
    "len(train_data)"
   ]
  },
  {
   "cell_type": "code",
   "execution_count": 76,
   "metadata": {
    "colab_type": "code"
   },
   "outputs": [
    {
     "data": {
      "text/plain": [
       "2246"
      ]
     },
     "execution_count": 76,
     "metadata": {},
     "output_type": "execute_result"
    }
   ],
   "source": [
    "len(test_data)"
   ]
  },
  {
   "cell_type": "code",
   "execution_count": 77,
   "metadata": {
    "colab_type": "code"
   },
   "outputs": [
    {
     "data": {
      "text/plain": [
       "[1,\n",
       " 245,\n",
       " 273,\n",
       " 207,\n",
       " 156,\n",
       " 53,\n",
       " 74,\n",
       " 160,\n",
       " 26,\n",
       " 14,\n",
       " 46,\n",
       " 296,\n",
       " 26,\n",
       " 39,\n",
       " 74,\n",
       " 2979,\n",
       " 3554,\n",
       " 14,\n",
       " 46,\n",
       " 4689,\n",
       " 4329,\n",
       " 86,\n",
       " 61,\n",
       " 3499,\n",
       " 4795,\n",
       " 14,\n",
       " 61,\n",
       " 451,\n",
       " 4329,\n",
       " 17,\n",
       " 12]"
      ]
     },
     "execution_count": 77,
     "metadata": {},
     "output_type": "execute_result"
    }
   ],
   "source": [
    "train_data[10]"
   ]
  },
  {
   "cell_type": "markdown",
   "metadata": {
    "colab_type": "text"
   },
   "source": [
    "**Decoding newswires back to text**"
   ]
  },
  {
   "cell_type": "code",
   "execution_count": 78,
   "metadata": {
    "colab_type": "code"
   },
   "outputs": [],
   "source": [
    "word_index = reuters.get_word_index()\n",
    "reverse_word_index = dict([(value, key) for (key, value) in word_index.items()])\n",
    "decoded_newswire = \" \".join([reverse_word_index.get(i - 3, \"?\") for i in\n",
    "    train_data[0]])\n",
    "##注意，索引減去了 3，因爲 0、1、2 是爲“padding”（填充）、“start of sequence”（序列開始）、“unknown”（未知詞）分別保留的索引"
   ]
  },
  {
   "cell_type": "code",
   "execution_count": 79,
   "metadata": {
    "colab_type": "code"
   },
   "outputs": [
    {
     "data": {
      "text/plain": [
       "3"
      ]
     },
     "execution_count": 79,
     "metadata": {},
     "output_type": "execute_result"
    }
   ],
   "source": [
    "train_labels[10]"
   ]
  },
  {
   "cell_type": "markdown",
   "metadata": {
    "colab_type": "text"
   },
   "source": [
    "### Preparing the data"
   ]
  },
  {
   "cell_type": "markdown",
   "metadata": {
    "colab_type": "text"
   },
   "source": [
    "**Encoding the input data**"
   ]
  },
  {
   "cell_type": "code",
   "execution_count": 80,
   "metadata": {
    "colab_type": "code"
   },
   "outputs": [],
   "source": [
    "## 將訓練數據、測試數據向量化\n",
    "x_train = vectorize_sequences(train_data)\n",
    "x_test = vectorize_sequences(test_data)"
   ]
  },
  {
   "cell_type": "markdown",
   "metadata": {
    "colab_type": "text"
   },
   "source": [
    "**Encoding the labels**"
   ]
  },
  {
   "cell_type": "code",
   "execution_count": 81,
   "metadata": {
    "colab_type": "code"
   },
   "outputs": [],
   "source": [
    "#準備數據(自定義one-hot方法)\n",
    "def to_one_hot(labels, dimension=46):\n",
    "    results = np.zeros((len(labels), dimension))\n",
    "    for i, label in enumerate(labels):\n",
    "        results[i, label] = 1.\n",
    "    return results\n",
    "y_train = to_one_hot(train_labels)\n",
    "y_test = to_one_hot(test_labels)"
   ]
  },
  {
   "cell_type": "code",
   "execution_count": 82,
   "metadata": {
    "colab_type": "code"
   },
   "outputs": [],
   "source": [
    "#將標籤向量化（兩種方法：1.標籤列表轉換成整數張量 2.使用one-hot編碼）\n",
    "#Keras 內置方法可以實現這個操作\n",
    "from tensorflow.keras.utils import to_categorical\n",
    "y_train = to_categorical(train_labels)\n",
    "y_test = to_categorical(test_labels)"
   ]
  },
  {
   "cell_type": "markdown",
   "metadata": {
    "colab_type": "text"
   },
   "source": [
    "### Building your model"
   ]
  },
  {
   "cell_type": "markdown",
   "metadata": {
    "colab_type": "text"
   },
   "source": [
    "**Model definition**"
   ]
  },
  {
   "cell_type": "code",
   "execution_count": 83,
   "metadata": {
    "colab_type": "code"
   },
   "outputs": [],
   "source": [
    "#構建網絡\n",
    "model = keras.Sequential([\n",
    "    layers.Dense(64, activation=\"relu\"),\n",
    "    layers.Dense(64, activation=\"relu\"),\n",
    "# 最後一層是大小爲46的Dense層意味着\n",
    "# 對於每個輸入樣本，網絡都會輸出一個46維向量，這個向量的每個元素（即每個維度）代表不同的輸出類別\n",
    "    layers.Dense(46, activation=\"softmax\")\n",
    "#softmax激活後的輸出可以理解成該概率分佈，概率總和爲1\n",
    "])"
   ]
  },
  {
   "cell_type": "markdown",
   "metadata": {
    "colab_type": "text"
   },
   "source": [
    "**Compiling the model**"
   ]
  },
  {
   "cell_type": "code",
   "execution_count": 84,
   "metadata": {
    "colab_type": "code"
   },
   "outputs": [],
   "source": [
    "#編譯模型\n",
    "model.compile(optimizer=\"rmsprop\",\n",
    "              loss=\"categorical_crossentropy\",\n",
    "              metrics=[\"accuracy\"])"
   ]
  },
  {
   "cell_type": "markdown",
   "metadata": {
    "colab_type": "text"
   },
   "source": [
    "### Validating your approach"
   ]
  },
  {
   "cell_type": "markdown",
   "metadata": {
    "colab_type": "text"
   },
   "source": [
    "**Setting aside a validation set**"
   ]
  },
  {
   "cell_type": "code",
   "execution_count": 85,
   "metadata": {
    "colab_type": "code"
   },
   "outputs": [],
   "source": [
    "#取訓練集向量化後的數據x_train的前1000個數據  \n",
    "x_val = x_train[:1000]# 餘下的數據\n",
    "partial_x_train = x_train[1000:]\n",
    "# 取訓練集向量化後的標籤one_hot_train_labels 的前1000個標籤\n",
    "y_val = y_train[:1000]\n",
    "partial_y_train = y_train[1000:]# 餘下的標籤"
   ]
  },
  {
   "cell_type": "markdown",
   "metadata": {
    "colab_type": "text"
   },
   "source": [
    "**Training the model**"
   ]
  },
  {
   "cell_type": "code",
   "execution_count": 86,
   "metadata": {
    "colab_type": "code"
   },
   "outputs": [
    {
     "name": "stdout",
     "output_type": "stream",
     "text": [
      "Epoch 1/20\n",
      "16/16 [==============================] - 1s 30ms/step - loss: 2.6479 - accuracy: 0.4960 - val_loss: 1.7373 - val_accuracy: 0.6490\n",
      "Epoch 2/20\n",
      "16/16 [==============================] - 0s 17ms/step - loss: 1.4142 - accuracy: 0.7085 - val_loss: 1.3184 - val_accuracy: 0.7150\n",
      "Epoch 3/20\n",
      "16/16 [==============================] - 0s 17ms/step - loss: 1.0440 - accuracy: 0.7801 - val_loss: 1.1351 - val_accuracy: 0.7520\n",
      "Epoch 4/20\n",
      "16/16 [==============================] - 0s 18ms/step - loss: 0.8227 - accuracy: 0.8251 - val_loss: 1.0454 - val_accuracy: 0.7760\n",
      "Epoch 5/20\n",
      "16/16 [==============================] - 0s 17ms/step - loss: 0.6539 - accuracy: 0.8637 - val_loss: 0.9478 - val_accuracy: 0.8110\n",
      "Epoch 6/20\n",
      "16/16 [==============================] - 0s 16ms/step - loss: 0.5257 - accuracy: 0.8913 - val_loss: 0.9132 - val_accuracy: 0.8140\n",
      "Epoch 7/20\n",
      "16/16 [==============================] - 0s 17ms/step - loss: 0.4174 - accuracy: 0.9152 - val_loss: 0.9162 - val_accuracy: 0.8060\n",
      "Epoch 8/20\n",
      "16/16 [==============================] - 0s 17ms/step - loss: 0.3418 - accuracy: 0.9282 - val_loss: 0.8944 - val_accuracy: 0.8040\n",
      "Epoch 9/20\n",
      "16/16 [==============================] - 0s 17ms/step - loss: 0.2820 - accuracy: 0.9397 - val_loss: 0.8927 - val_accuracy: 0.8090\n",
      "Epoch 10/20\n",
      "16/16 [==============================] - 0s 17ms/step - loss: 0.2429 - accuracy: 0.9455 - val_loss: 0.9116 - val_accuracy: 0.8250\n",
      "Epoch 11/20\n",
      "16/16 [==============================] - 0s 17ms/step - loss: 0.2092 - accuracy: 0.9495 - val_loss: 0.8979 - val_accuracy: 0.8250\n",
      "Epoch 12/20\n",
      "16/16 [==============================] - 0s 16ms/step - loss: 0.1825 - accuracy: 0.9514 - val_loss: 0.9187 - val_accuracy: 0.8150\n",
      "Epoch 13/20\n",
      "16/16 [==============================] - 0s 16ms/step - loss: 0.1649 - accuracy: 0.9539 - val_loss: 0.9535 - val_accuracy: 0.8160\n",
      "Epoch 14/20\n",
      "16/16 [==============================] - 0s 16ms/step - loss: 0.1529 - accuracy: 0.9558 - val_loss: 1.0389 - val_accuracy: 0.7990\n",
      "Epoch 15/20\n",
      "16/16 [==============================] - 0s 17ms/step - loss: 0.1434 - accuracy: 0.9562 - val_loss: 0.9723 - val_accuracy: 0.8200\n",
      "Epoch 16/20\n",
      "16/16 [==============================] - 0s 17ms/step - loss: 0.1334 - accuracy: 0.9567 - val_loss: 1.0665 - val_accuracy: 0.8120\n",
      "Epoch 17/20\n",
      "16/16 [==============================] - 0s 17ms/step - loss: 0.1285 - accuracy: 0.9564 - val_loss: 1.1023 - val_accuracy: 0.7930\n",
      "Epoch 18/20\n",
      "16/16 [==============================] - 0s 17ms/step - loss: 0.1213 - accuracy: 0.9563 - val_loss: 1.0534 - val_accuracy: 0.8070\n",
      "Epoch 19/20\n",
      "16/16 [==============================] - 0s 17ms/step - loss: 0.1133 - accuracy: 0.9568 - val_loss: 1.0574 - val_accuracy: 0.8090\n",
      "Epoch 20/20\n",
      "16/16 [==============================] - 0s 16ms/step - loss: 0.1143 - accuracy: 0.9583 - val_loss: 1.1300 - val_accuracy: 0.8010\n"
     ]
    }
   ],
   "source": [
    "#訓練模型\n",
    "history = model.fit(partial_x_train,\n",
    "                    partial_y_train,\n",
    "                    epochs=20,\n",
    "                    batch_size=512,\n",
    "                    validation_data=(x_val, y_val))"
   ]
  },
  {
   "cell_type": "markdown",
   "metadata": {
    "colab_type": "text"
   },
   "source": [
    "**Plotting the training and validation loss**"
   ]
  },
  {
   "cell_type": "code",
   "execution_count": 87,
   "metadata": {
    "colab_type": "code"
   },
   "outputs": [
    {
     "data": {
      "image/png": "[encoded data removed]",
      "text/plain": [
       "<Figure size 640x480 with 1 Axes>"
      ]
     },
     "metadata": {},
     "output_type": "display_data"
    }
   ],
   "source": [
    "#繪製訓練損失和驗證損失\n",
    "loss = history.history[\"loss\"]\n",
    "val_loss = history.history[\"val_loss\"]\n",
    "epochs = range(1, len(loss) + 1)\n",
    "plt.plot(epochs, loss, \"ro\", label=\"Training loss\")\n",
    "plt.plot(epochs, val_loss, \"b\", label=\"Validation loss\")\n",
    "plt.title(\"Training and validation loss\")\n",
    "plt.xlabel(\"Epochs\")\n",
    "plt.ylabel(\"Loss\")\n",
    "plt.legend()\n",
    "plt.show()"
   ]
  },
  {
   "cell_type": "markdown",
   "metadata": {
    "colab_type": "text"
   },
   "source": [
    "**Plotting the training and validation accuracy**"
   ]
  },
  {
   "cell_type": "code",
   "execution_count": 88,
   "metadata": {
    "colab_type": "code"
   },
   "outputs": [
    {
     "data": {
      "image/png": "[encoded data removed]",
      "text/plain": [
       "<Figure size 640x480 with 1 Axes>"
      ]
     },
     "metadata": {},
     "output_type": "display_data"
    }
   ],
   "source": [
    "#繪製訓練精度和驗證精度\n",
    "plt.clf()\n",
    "acc = history.history[\"accuracy\"]\n",
    "val_acc = history.history[\"val_accuracy\"]\n",
    "plt.plot(epochs, acc, \"ro\", label=\"Training accuracy\")\n",
    "plt.plot(epochs, val_acc, \"b\", label=\"Validation accuracy\")\n",
    "plt.title(\"Training and validation accuracy\")\n",
    "plt.xlabel(\"Epochs\")\n",
    "plt.ylabel(\"Accuracy\")\n",
    "plt.legend()\n",
    "plt.show()"
   ]
  },
  {
   "cell_type": "markdown",
   "metadata": {
    "colab_type": "text"
   },
   "source": [
    "**Retraining a model from scratch**"
   ]
  },
  {
   "cell_type": "code",
   "execution_count": 89,
   "metadata": {
    "colab_type": "code"
   },
   "outputs": [
    {
     "name": "stdout",
     "output_type": "stream",
     "text": [
      "Epoch 1/10\n",
      "18/18 [==============================] - 1s 18ms/step - loss: 2.4083 - accuracy: 0.5078\n",
      "Epoch 2/10\n",
      "18/18 [==============================] - 0s 15ms/step - loss: 1.2912 - accuracy: 0.7174\n",
      "Epoch 3/10\n",
      "18/18 [==============================] - 0s 14ms/step - loss: 0.9666 - accuracy: 0.7926\n",
      "Epoch 4/10\n",
      "18/18 [==============================] - 0s 14ms/step - loss: 0.7582 - accuracy: 0.8382\n",
      "Epoch 5/10\n",
      "18/18 [==============================] - 0s 14ms/step - loss: 0.6052 - accuracy: 0.8732\n",
      "Epoch 6/10\n",
      "18/18 [==============================] - 0s 14ms/step - loss: 0.4836 - accuracy: 0.8984\n",
      "Epoch 7/10\n",
      "18/18 [==============================] - 0s 14ms/step - loss: 0.3923 - accuracy: 0.9182\n",
      "Epoch 8/10\n",
      "18/18 [==============================] - 0s 14ms/step - loss: 0.3187 - accuracy: 0.9304\n",
      "Epoch 9/10\n",
      "18/18 [==============================] - 0s 14ms/step - loss: 0.2714 - accuracy: 0.9387\n",
      "Epoch 10/10\n",
      "18/18 [==============================] - 0s 14ms/step - loss: 0.2281 - accuracy: 0.9476\n",
      "71/71 [==============================] - 0s 1ms/step - loss: 0.9838 - accuracy: 0.7988\n"
     ]
    }
   ],
   "source": [
    "#從頭開始重新訓練一個模型\n",
    "#構建網絡\n",
    "#這裏因爲輸出是46維，爲了防止信息瓶頸，每層的元素要多一些，這裏先選取爲64\n",
    "#輸出層的激活函數選取softmax，這樣可以求取每個取值的概率，這裏一共46個概率且和爲1。\n",
    "model = keras.Sequential([\n",
    "  layers.Dense(64, activation=\"relu\"),\n",
    "  layers.Dense(64, activation=\"relu\"),\n",
    "  layers.Dense(46, activation=\"softmax\")\n",
    "])\n",
    "model.compile(optimizer=\"rmsprop\",\n",
    "              loss=\"categorical_crossentropy\",\n",
    "              metrics=[\"accuracy\"])\n",
    "model.fit(x_train,\n",
    "          y_train,\n",
    "          epochs=10,\n",
    "          batch_size=512)\n",
    "results = model.evaluate(x_test, y_test)"
   ]
  },
  {
   "cell_type": "code",
   "execution_count": 90,
   "metadata": {
    "colab_type": "code"
   },
   "outputs": [
    {
     "data": {
      "text/plain": [
       "[0.9838283658027649, 0.7987533211708069]"
      ]
     },
     "execution_count": 90,
     "metadata": {},
     "output_type": "execute_result"
    }
   ],
   "source": [
    "results"
   ]
  },
  {
   "cell_type": "code",
   "execution_count": 91,
   "metadata": {
    "colab_type": "code"
   },
   "outputs": [
    {
     "data": {
      "text/plain": [
       "0.19456812110418523"
      ]
     },
     "execution_count": 91,
     "metadata": {},
     "output_type": "execute_result"
    }
   ],
   "source": [
    "import copy\n",
    "test_labels_copy = copy.copy(test_labels)\n",
    "np.random.shuffle(test_labels_copy)\n",
    "hits_array = np.array(test_labels) == np.array(test_labels_copy)\n",
    "hits_array.mean()"
   ]
  },
  {
   "cell_type": "markdown",
   "metadata": {
    "colab_type": "text"
   },
   "source": [
    "### Generating predictions on new data"
   ]
  },
  {
   "cell_type": "code",
   "execution_count": 92,
   "metadata": {
    "colab_type": "code"
   },
   "outputs": [
    {
     "name": "stdout",
     "output_type": "stream",
     "text": [
      "71/71 [==============================] - 0s 1ms/step\n"
     ]
    }
   ],
   "source": [
    "#在新數據上生成預測結果\n",
    "predictions = model.predict(x_test)"
   ]
  },
  {
   "cell_type": "code",
   "execution_count": 93,
   "metadata": {
    "colab_type": "code"
   },
   "outputs": [
    {
     "data": {
      "text/plain": [
       "(46,)"
      ]
     },
     "execution_count": 93,
     "metadata": {},
     "output_type": "execute_result"
    }
   ],
   "source": [
    "#在新數據上生成預測結果\n",
    "predictions[0].shape"
   ]
  },
  {
   "cell_type": "code",
   "execution_count": 94,
   "metadata": {
    "colab_type": "code"
   },
   "outputs": [
    {
     "data": {
      "text/plain": [
       "1.0000001"
      ]
     },
     "execution_count": 94,
     "metadata": {},
     "output_type": "execute_result"
    }
   ],
   "source": [
    "#這個向量的所有元素總和爲 1。\n",
    "np.sum(predictions[0])"
   ]
  },
  {
   "cell_type": "code",
   "execution_count": 95,
   "metadata": {
    "colab_type": "code"
   },
   "outputs": [
    {
     "data": {
      "text/plain": [
       "3"
      ]
     },
     "execution_count": 95,
     "metadata": {},
     "output_type": "execute_result"
    }
   ],
   "source": [
    "#最大的元素就是預測類別，即概率最大的類別。\n",
    "np.argmax(predictions[0])"
   ]
  },
  {
   "cell_type": "markdown",
   "metadata": {
    "colab_type": "text"
   },
   "source": [
    "### A different way to handle the labels and the loss"
   ]
  },
  {
   "cell_type": "code",
   "execution_count": 96,
   "metadata": {
    "colab_type": "code"
   },
   "outputs": [],
   "source": [
    "y_train = np.array(train_labels)\n",
    "y_test = np.array(test_labels)"
   ]
  },
  {
   "cell_type": "code",
   "execution_count": 97,
   "metadata": {
    "colab_type": "code"
   },
   "outputs": [],
   "source": [
    "model.compile(optimizer=\"rmsprop\",\n",
    "              loss=\"sparse_categorical_crossentropy\",\n",
    "              metrics=[\"accuracy\"])"
   ]
  },
  {
   "cell_type": "markdown",
   "metadata": {
    "colab_type": "text"
   },
   "source": [
    "### The importance of having sufficiently large intermediate layers"
   ]
  },
  {
   "cell_type": "markdown",
   "metadata": {
    "colab_type": "text"
   },
   "source": [
    "**A model with an information bottleneck**"
   ]
  },
  {
   "cell_type": "code",
   "execution_count": 98,
   "metadata": {
    "colab_type": "code"
   },
   "outputs": [
    {
     "name": "stdout",
     "output_type": "stream",
     "text": [
      "Epoch 1/20\n",
      "63/63 [==============================] - 1s 9ms/step - loss: 3.3354 - accuracy: 0.4509 - val_loss: 2.9921 - val_accuracy: 0.5200\n",
      "Epoch 2/20\n",
      "63/63 [==============================] - 0s 6ms/step - loss: 2.7584 - accuracy: 0.3723 - val_loss: 2.6779 - val_accuracy: 0.2850\n",
      "Epoch 3/20\n",
      "63/63 [==============================] - 0s 6ms/step - loss: 2.3757 - accuracy: 0.2924 - val_loss: 2.3286 - val_accuracy: 0.3010\n",
      "Epoch 4/20\n",
      "63/63 [==============================] - 0s 6ms/step - loss: 1.8720 - accuracy: 0.4528 - val_loss: 1.7686 - val_accuracy: 0.6390\n",
      "Epoch 5/20\n",
      "63/63 [==============================] - 0s 6ms/step - loss: 1.3445 - accuracy: 0.6802 - val_loss: 1.4842 - val_accuracy: 0.6530\n",
      "Epoch 6/20\n",
      "63/63 [==============================] - 0s 6ms/step - loss: 1.1703 - accuracy: 0.6991 - val_loss: 1.4820 - val_accuracy: 0.6640\n",
      "Epoch 7/20\n",
      "63/63 [==============================] - 0s 6ms/step - loss: 1.0915 - accuracy: 0.7212 - val_loss: 1.4542 - val_accuracy: 0.6790\n",
      "Epoch 8/20\n",
      "63/63 [==============================] - 0s 6ms/step - loss: 1.0303 - accuracy: 0.7345 - val_loss: 1.4658 - val_accuracy: 0.6760\n",
      "Epoch 9/20\n",
      "63/63 [==============================] - 0s 6ms/step - loss: 0.9835 - accuracy: 0.7403 - val_loss: 1.4943 - val_accuracy: 0.6780\n",
      "Epoch 10/20\n",
      "63/63 [==============================] - 0s 6ms/step - loss: 0.9435 - accuracy: 0.7433 - val_loss: 1.5079 - val_accuracy: 0.6790\n",
      "Epoch 11/20\n",
      "63/63 [==============================] - 0s 6ms/step - loss: 0.9095 - accuracy: 0.7464 - val_loss: 1.5372 - val_accuracy: 0.6750\n",
      "Epoch 12/20\n",
      "63/63 [==============================] - 0s 6ms/step - loss: 0.8780 - accuracy: 0.7492 - val_loss: 1.5985 - val_accuracy: 0.6730\n",
      "Epoch 13/20\n",
      "63/63 [==============================] - 0s 6ms/step - loss: 0.8528 - accuracy: 0.7504 - val_loss: 1.6868 - val_accuracy: 0.6710\n",
      "Epoch 14/20\n",
      "63/63 [==============================] - 0s 6ms/step - loss: 0.8294 - accuracy: 0.7534 - val_loss: 1.7005 - val_accuracy: 0.6690\n",
      "Epoch 15/20\n",
      "63/63 [==============================] - 0s 6ms/step - loss: 0.8084 - accuracy: 0.7586 - val_loss: 1.7391 - val_accuracy: 0.6680\n",
      "Epoch 16/20\n",
      "63/63 [==============================] - 0s 5ms/step - loss: 0.7914 - accuracy: 0.7597 - val_loss: 1.7845 - val_accuracy: 0.6660\n",
      "Epoch 17/20\n",
      "63/63 [==============================] - 0s 6ms/step - loss: 0.7709 - accuracy: 0.7674 - val_loss: 1.7678 - val_accuracy: 0.6700\n",
      "Epoch 18/20\n",
      "63/63 [==============================] - 0s 6ms/step - loss: 0.7549 - accuracy: 0.7756 - val_loss: 1.8257 - val_accuracy: 0.6750\n",
      "Epoch 19/20\n",
      "63/63 [==============================] - 0s 6ms/step - loss: 0.7411 - accuracy: 0.7800 - val_loss: 1.9376 - val_accuracy: 0.6720\n",
      "Epoch 20/20\n",
      "63/63 [==============================] - 0s 5ms/step - loss: 0.7254 - accuracy: 0.7839 - val_loss: 1.9976 - val_accuracy: 0.6690\n"
     ]
    },
    {
     "data": {
      "text/plain": [
       "<keras.callbacks.History at 0x7f955e71d360>"
      ]
     },
     "execution_count": 98,
     "metadata": {},
     "output_type": "execute_result"
    }
   ],
   "source": [
    "model = keras.Sequential([\n",
    "    layers.Dense(64, activation=\"relu\"),\n",
    "    layers.Dense(4, activation=\"relu\"),\n",
    "    layers.Dense(46, activation=\"softmax\")\n",
    "])\n",
    "model.compile(optimizer=\"rmsprop\",\n",
    "              loss=\"categorical_crossentropy\",\n",
    "              metrics=[\"accuracy\"])\n",
    "model.fit(partial_x_train,\n",
    "          partial_y_train,\n",
    "          epochs=20,\n",
    "          batch_size=128,\n",
    "          validation_data=(x_val, y_val))"
   ]
  },
  {
   "cell_type": "markdown",
   "metadata": {
    "colab_type": "text"
   },
   "source": [
    "### Further experiments"
   ]
  },
  {
   "cell_type": "markdown",
   "metadata": {
    "colab_type": "text"
   },
   "source": [
    "### Wrapping up"
   ]
  },
  {
   "cell_type": "markdown",
   "metadata": {
    "colab_type": "text"
   },
   "source": [
    "## Predicting house prices: A regression example"
   ]
  },
  {
   "cell_type": "markdown",
   "metadata": {
    "colab_type": "text"
   },
   "source": [
    "### The Boston Housing Price dataset"
   ]
  },
  {
   "cell_type": "markdown",
   "metadata": {
    "colab_type": "text"
   },
   "source": [
    "**Loading the Boston housing dataset**"
   ]
  },
  {
   "cell_type": "code",
   "execution_count": 99,
   "metadata": {
    "colab_type": "code"
   },
   "outputs": [],
   "source": [
    "#下載波士頓房價數據\n",
    "#它包含的數據點相對較少，只有 506 個，分爲 404 個訓練樣本和 102 個測試樣本。\n",
    "from tensorflow.keras.datasets import boston_housing\n",
    "(train_data, train_targets), (test_data, test_targets) = boston_housing.load_data()"
   ]
  },
  {
   "cell_type": "markdown",
   "metadata": {},
   "source": [
    "1，城鎮中非商業用地的比率\n",
    "\n",
    "2，每塊面積25000英尺的地皮上，住宅用地的比率。\n",
    "\n",
    "3，城鎮中非零售商業用地面積\n",
    "\n",
    "4，是否沿河，1表示沿河，0表示不沿河\n",
    "\n",
    "5，一氧化氮含量\n",
    "\n",
    "6，住宅的平均單間數\n",
    "\n",
    "7，1940年前自有產權房的數量\n",
    "\n",
    "8，住宅與波士頓五個工作區的距離\n",
    "\n",
    "9，接入高速公路的便利指數\n",
    "10，每一萬美金所要繳納的全額房產稅\n",
    "\n",
    "11，城鎮中的師生比\n",
    "\n",
    "12，1000*(BK - 0.63)^2, BK表示黑人比率\n",
    "\n",
    "13，底層人口的百分比\n",
    "\n",
    "\n",
    "\n",
    "\n",
    "\n",
    "\n",
    "\n",
    "原文網址：https://kknews.cc/house/blbp9ym.html"
   ]
  },
  {
   "cell_type": "code",
   "execution_count": 100,
   "metadata": {
    "colab_type": "code"
   },
   "outputs": [
    {
     "data": {
      "text/plain": [
       "(404, 13)"
      ]
     },
     "execution_count": 100,
     "metadata": {},
     "output_type": "execute_result"
    }
   ],
   "source": [
    "train_data.shape\n",
    "#訓練數據集只有404條,\n",
    "#而每條數據集都包含以上13個方面的特徵\n",
    "\n"
   ]
  },
  {
   "cell_type": "code",
   "execution_count": 101,
   "metadata": {
    "colab_type": "code"
   },
   "outputs": [
    {
     "data": {
      "text/plain": [
       "(102, 13)"
      ]
     },
     "execution_count": 101,
     "metadata": {},
     "output_type": "execute_result"
    }
   ],
   "source": [
    "test_data.shape\n",
    "#測試數據集只有102條\n",
    "#而每條數據集都包含以上13個方面的特徵"
   ]
  },
  {
   "cell_type": "code",
   "execution_count": 102,
   "metadata": {
    "colab_type": "code"
   },
   "outputs": [
    {
     "data": {
      "text/plain": [
       "array([15.2, 42.3, 50. , 21.1, 17.7, 18.5, 11.3, 15.6, 15.6, 14.4, 12.1,\n",
       "       17.9, 23.1, 19.9, 15.7,  8.8, 50. , 22.5, 24.1, 27.5, 10.9, 30.8,\n",
       "       32.9, 24. , 18.5, 13.3, 22.9, 34.7, 16.6, 17.5, 22.3, 16.1, 14.9,\n",
       "       23.1, 34.9, 25. , 13.9, 13.1, 20.4, 20. , 15.2, 24.7, 22.2, 16.7,\n",
       "       12.7, 15.6, 18.4, 21. , 30.1, 15.1, 18.7,  9.6, 31.5, 24.8, 19.1,\n",
       "       22. , 14.5, 11. , 32. , 29.4, 20.3, 24.4, 14.6, 19.5, 14.1, 14.3,\n",
       "       15.6, 10.5,  6.3, 19.3, 19.3, 13.4, 36.4, 17.8, 13.5, 16.5,  8.3,\n",
       "       14.3, 16. , 13.4, 28.6, 43.5, 20.2, 22. , 23. , 20.7, 12.5, 48.5,\n",
       "       14.6, 13.4, 23.7, 50. , 21.7, 39.8, 38.7, 22.2, 34.9, 22.5, 31.1,\n",
       "       28.7, 46. , 41.7, 21. , 26.6, 15. , 24.4, 13.3, 21.2, 11.7, 21.7,\n",
       "       19.4, 50. , 22.8, 19.7, 24.7, 36.2, 14.2, 18.9, 18.3, 20.6, 24.6,\n",
       "       18.2,  8.7, 44. , 10.4, 13.2, 21.2, 37. , 30.7, 22.9, 20. , 19.3,\n",
       "       31.7, 32. , 23.1, 18.8, 10.9, 50. , 19.6,  5. , 14.4, 19.8, 13.8,\n",
       "       19.6, 23.9, 24.5, 25. , 19.9, 17.2, 24.6, 13.5, 26.6, 21.4, 11.9,\n",
       "       22.6, 19.6,  8.5, 23.7, 23.1, 22.4, 20.5, 23.6, 18.4, 35.2, 23.1,\n",
       "       27.9, 20.6, 23.7, 28. , 13.6, 27.1, 23.6, 20.6, 18.2, 21.7, 17.1,\n",
       "        8.4, 25.3, 13.8, 22.2, 18.4, 20.7, 31.6, 30.5, 20.3,  8.8, 19.2,\n",
       "       19.4, 23.1, 23. , 14.8, 48.8, 22.6, 33.4, 21.1, 13.6, 32.2, 13.1,\n",
       "       23.4, 18.9, 23.9, 11.8, 23.3, 22.8, 19.6, 16.7, 13.4, 22.2, 20.4,\n",
       "       21.8, 26.4, 14.9, 24.1, 23.8, 12.3, 29.1, 21. , 19.5, 23.3, 23.8,\n",
       "       17.8, 11.5, 21.7, 19.9, 25. , 33.4, 28.5, 21.4, 24.3, 27.5, 33.1,\n",
       "       16.2, 23.3, 48.3, 22.9, 22.8, 13.1, 12.7, 22.6, 15. , 15.3, 10.5,\n",
       "       24. , 18.5, 21.7, 19.5, 33.2, 23.2,  5. , 19.1, 12.7, 22.3, 10.2,\n",
       "       13.9, 16.3, 17. , 20.1, 29.9, 17.2, 37.3, 45.4, 17.8, 23.2, 29. ,\n",
       "       22. , 18. , 17.4, 34.6, 20.1, 25. , 15.6, 24.8, 28.2, 21.2, 21.4,\n",
       "       23.8, 31. , 26.2, 17.4, 37.9, 17.5, 20. ,  8.3, 23.9,  8.4, 13.8,\n",
       "        7.2, 11.7, 17.1, 21.6, 50. , 16.1, 20.4, 20.6, 21.4, 20.6, 36.5,\n",
       "        8.5, 24.8, 10.8, 21.9, 17.3, 18.9, 36.2, 14.9, 18.2, 33.3, 21.8,\n",
       "       19.7, 31.6, 24.8, 19.4, 22.8,  7.5, 44.8, 16.8, 18.7, 50. , 50. ,\n",
       "       19.5, 20.1, 50. , 17.2, 20.8, 19.3, 41.3, 20.4, 20.5, 13.8, 16.5,\n",
       "       23.9, 20.6, 31.5, 23.3, 16.8, 14. , 33.8, 36.1, 12.8, 18.3, 18.7,\n",
       "       19.1, 29. , 30.1, 50. , 50. , 22. , 11.9, 37.6, 50. , 22.7, 20.8,\n",
       "       23.5, 27.9, 50. , 19.3, 23.9, 22.6, 15.2, 21.7, 19.2, 43.8, 20.3,\n",
       "       33.2, 19.9, 22.5, 32.7, 22. , 17.1, 19. , 15. , 16.1, 25.1, 23.7,\n",
       "       28.7, 37.2, 22.6, 16.4, 25. , 29.8, 22.1, 17.4, 18.1, 30.3, 17.5,\n",
       "       24.7, 12.6, 26.5, 28.7, 13.3, 10.4, 24.4, 23. , 20. , 17.8,  7. ,\n",
       "       11.8, 24.4, 13.8, 19.4, 25.2, 19.4, 19.4, 29.1])"
      ]
     },
     "execution_count": 102,
     "metadata": {},
     "output_type": "execute_result"
    }
   ],
   "source": [
    "#我們要預測的是自有產權房的中位價格，單位是千美元，我們看看訓練數據集對應的結果：\n",
    "train_targets"
   ]
  },
  {
   "cell_type": "markdown",
   "metadata": {
    "colab_type": "text"
   },
   "source": [
    "### Preparing the data"
   ]
  },
  {
   "cell_type": "markdown",
   "metadata": {
    "colab_type": "text"
   },
   "source": [
    "**Normalizing the data**"
   ]
  },
  {
   "cell_type": "code",
   "execution_count": 103,
   "metadata": {
    "colab_type": "code"
   },
   "outputs": [],
   "source": [
    "#準備數據\n",
    "mean = train_data.mean(axis=0)\n",
    "train_data -= mean\n",
    "std = train_data.std(axis=0)\n",
    "train_data /= std\n",
    "test_data -= mean\n",
    "test_data /= std"
   ]
  },
  {
   "cell_type": "markdown",
   "metadata": {
    "colab_type": "text"
   },
   "source": [
    "### Building your model"
   ]
  },
  {
   "cell_type": "markdown",
   "metadata": {
    "colab_type": "text"
   },
   "source": [
    "**Model definition**"
   ]
  },
  {
   "cell_type": "code",
   "execution_count": 104,
   "metadata": {
    "colab_type": "code"
   },
   "outputs": [],
   "source": [
    "#構建網絡\n",
    "#我們構造的網絡最後一層只有一個節點，因為我們只需要預測一個結果，\n",
    "#同時該節點沒有激活函數，當我們要預測的結果處於某個區間內時，我們就不用添加激活函數。\n",
    "def build_model():\n",
    "    # 因爲需要將同一個模型多次實例化，所以用一個函數來構建模型\n",
    "    model = keras.Sequential([\n",
    "        layers.Dense(64, activation=\"relu\"),\n",
    "        layers.Dense(64, activation=\"relu\"),\n",
    "        layers.Dense(1)\n",
    "    ])\n",
    "    #mse損失函數->均方誤差\n",
    "    model.compile(optimizer=\"rmsprop\", loss=\"mse\", metrics=[\"mae\"])\n",
    "    return model"
   ]
  },
  {
   "cell_type": "markdown",
   "metadata": {
    "colab_type": "text"
   },
   "source": [
    "### Validating your approach using K-fold validation"
   ]
  },
  {
   "cell_type": "markdown",
   "metadata": {
    "colab_type": "text"
   },
   "source": [
    "**K-fold validation**"
   ]
  },
  {
   "cell_type": "code",
   "execution_count": 105,
   "metadata": {
    "colab_type": "code"
   },
   "outputs": [
    {
     "name": "stdout",
     "output_type": "stream",
     "text": [
      "Processing fold #0\n",
      "Processing fold #1\n",
      "Processing fold #2\n",
      "Processing fold #3\n"
     ]
    }
   ],
   "source": [
    "#利用k折驗證來驗證方法\n",
    "k = 4#4折\n",
    "num_val_samples = len(train_data) // k#每折多少個樣本\n",
    "num_epochs = 100\n",
    "all_scores = []\n",
    "for i in range(k):\n",
    "    print(f\"Processing fold #{i}\")\n",
    "    # 準備驗證數據：第 k 個分區的數據\n",
    "    val_data = train_data[i * num_val_samples: (i + 1) * num_val_samples]\n",
    "    val_targets = train_targets[i * num_val_samples: (i + 1) * num_val_samples]\n",
    "    #把剩下的k-1分數據作為訓練數據,如果第i分數據作為校驗數據\n",
    "    #那麼把前i-1份和第i份之後的數據連起來\n",
    "    # 準備訓練數據：其他所有分區的數據\n",
    "    partial_train_data = np.concatenate(\n",
    "        [train_data[:i * num_val_samples],\n",
    "         train_data[(i + 1) * num_val_samples:]],\n",
    "        axis=0)\n",
    "    # B構建 Keras 模型（已編譯）\n",
    "    partial_train_targets = np.concatenate(\n",
    "        [train_targets[:i * num_val_samples],\n",
    "         train_targets[(i + 1) * num_val_samples:]],\n",
    "        axis=0)\n",
    "    model = build_model()\n",
    "    ##把分割好的訓練數據和校驗數據輸入網絡\n",
    "    # 訓練模型（靜默模式，verbose=0）\n",
    "    model.fit(partial_train_data, partial_train_targets,\n",
    "              epochs=num_epochs, batch_size=16, verbose=0)\n",
    "    # 在驗證數據上評估模型\n",
    "    val_mse, val_mae = model.evaluate(val_data, val_targets, verbose=0)\n",
    "    all_scores.append(val_mae)"
   ]
  },
  {
   "cell_type": "code",
   "execution_count": 106,
   "metadata": {
    "colab_type": "code"
   },
   "outputs": [
    {
     "name": "stdout",
     "output_type": "stream",
     "text": [
      "[2.0822300910949707, 2.46872615814209, 2.358109474182129, 2.389162063598633]\n"
     ]
    }
   ],
   "source": [
    "print(all_scores)"
   ]
  },
  {
   "cell_type": "code",
   "execution_count": 107,
   "metadata": {
    "colab_type": "code"
   },
   "outputs": [
    {
     "data": {
      "text/plain": [
       "2.3245569467544556"
      ]
     },
     "execution_count": 107,
     "metadata": {},
     "output_type": "execute_result"
    }
   ],
   "source": [
    "#這就是 K 折交叉驗證的關鍵\n",
    "#結果顯示：我們的預測結果跟正確結果相比大概相差2.4*1000也就是2400美元左右\n",
    "#這個誤差還是過大\n",
    "np.mean(all_scores)"
   ]
  },
  {
   "cell_type": "markdown",
   "metadata": {
    "colab_type": "text"
   },
   "source": [
    "**Saving the validation logs at each fold**"
   ]
  },
  {
   "cell_type": "code",
   "execution_count": 112,
   "metadata": {
    "colab_type": "code"
   },
   "outputs": [
    {
     "name": "stdout",
     "output_type": "stream",
     "text": [
      "Processing fold #0\n",
      "Processing fold #1\n",
      "Processing fold #2\n",
      "Processing fold #3\n"
     ]
    }
   ],
   "source": [
    "#保存每折的驗證結果\n",
    "num_epochs = 200#上面代碼把每次訓練的循環次數提高到200(原本是100)\n",
    "all_mae_histories = []\n",
    "for i in range(k):\n",
    "    print(f\"Processing fold #{i}\")\n",
    "    # 準備驗證數據：第 k 個分區的數據\n",
    "    #依次把k分數據中的每一份作為校驗數據集\n",
    "    val_data = train_data[i * num_val_samples: (i + 1) * num_val_samples]\n",
    "    val_targets = train_targets[i * num_val_samples: (i + 1) * num_val_samples]\n",
    "    # 準備訓練數據：其他所有分區的數據\n",
    "    #把剩下的k-1分數據作為訓練數據,\n",
    "    #如果第i分數據作為校驗數據，那麼把前i-1份和第i份之後的數據連起來\n",
    "    partial_train_data = np.concatenate(\n",
    "        [train_data[:i * num_val_samples],\n",
    "         train_data[(i + 1) * num_val_samples:]],\n",
    "        axis=0)\n",
    "    partial_train_targets = np.concatenate(\n",
    "        [train_targets[:i * num_val_samples],\n",
    "         train_targets[(i + 1) * num_val_samples:]],\n",
    "        axis=0)\n",
    "    # 構建 Keras 模型（已編譯）\n",
    "    model = build_model()\n",
    "    # 訓練模型（靜默模式，verbose=0）\n",
    "    #把分割好的訓練數據和校驗數據輸入網絡\n",
    "    history = model.fit(partial_train_data, partial_train_targets,\n",
    "                        validation_data=(val_data, val_targets),\n",
    "                        epochs=num_epochs, batch_size=16, verbose=0)\n",
    "    mae_history = history.history[\"val_mae\"]\n",
    "    all_mae_histories.append(mae_history)"
   ]
  },
  {
   "cell_type": "markdown",
   "metadata": {
    "colab_type": "text"
   },
   "source": [
    "**Building the history of successive mean K-fold validation scores**"
   ]
  },
  {
   "cell_type": "code",
   "execution_count": 115,
   "metadata": {
    "colab_type": "code"
   },
   "outputs": [
    {
     "name": "stdout",
     "output_type": "stream",
     "text": [
      "[19.072736740112305, 15.432039737701416, 11.02989387512207, 7.409159183502197, 5.705422878265381, 4.703874826431274, 4.034332752227783, 3.6469700932502747, 3.4588592648506165, 3.342967391014099, 3.1927132606506348, 3.036598563194275, 2.987482786178589, 2.8888267278671265, 2.8387349247932434, 2.8466996550559998, 2.7810433506965637, 2.7779454588890076, 2.715695858001709, 2.74452006816864, 2.6323975920677185, 2.6996864676475525, 2.598804771900177, 2.605792462825775, 2.633880615234375, 2.589200973510742, 2.5430321097373962, 2.5695452094078064, 2.5500301718711853, 2.570415496826172, 2.505028247833252, 2.51026850938797, 2.5067285895347595, 2.4812766909599304, 2.481610953807831, 2.4536441564559937, 2.4792760610580444, 2.4710274934768677, 2.4200215935707092, 2.4062426686286926, 2.4306470155715942, 2.373054623603821, 2.4084708094596863, 2.381546676158905, 2.396716296672821, 2.401243180036545, 2.420666515827179, 2.3931673169136047, 2.348822057247162, 2.378851681947708, 2.3438608646392822, 2.303060233592987, 2.333798348903656, 2.3476454317569733, 2.3420505821704865, 2.320179730653763, 2.3353973627090454, 2.333266496658325, 2.3225938379764557, 2.347525954246521, 2.3544886708259583, 2.3157319128513336, 2.288732588291168, 2.3214031755924225, 2.2845358848571777, 2.25381138920784, 2.3656841814517975, 2.329530894756317, 2.297422766685486, 2.3220669627189636, 2.3249536752700806, 2.275869905948639, 2.2963958382606506, 2.301961064338684, 2.290878415107727, 2.2903435826301575, 2.25207856297493, 2.3266007900238037, 2.2828734815120697, 2.236648678779602, 2.2558940052986145, 2.2685042917728424, 2.2828165888786316, 2.2406075596809387, 2.336643695831299, 2.281214952468872, 2.2592379450798035, 2.265257030725479, 2.232662111520767, 2.221655935049057, 2.242929607629776, 2.26358163356781, 2.235097497701645, 2.3143009543418884, 2.258200705051422, 2.2973881363868713, 2.267042338848114, 2.2810879945755005, 2.325122833251953, 2.3184854984283447, 2.2646467983722687, 2.3485469818115234, 2.2235635221004486, 2.206469714641571, 2.264887571334839, 2.248024344444275, 2.217266857624054, 2.2661401331424713, 2.291193902492523, 2.2090067267417908, 2.1853674054145813, 2.2368528842926025, 2.223228931427002, 2.231363534927368, 2.251450628042221, 2.267172932624817, 2.2691234350204468, 2.217879682779312, 2.187595456838608, 2.2951799631118774, 2.205513656139374, 2.2351505160331726, 2.2220659255981445, 2.365240454673767, 2.240145266056061, 2.2451696693897247, 2.215631365776062, 2.2959065437316895, 2.234083592891693, 2.236079692840576, 2.2573272585868835, 2.2423849999904633, 2.260206162929535, 2.2155869901180267, 2.3014679551124573, 2.302492320537567, 2.3433017134666443, 2.253066837787628, 2.265660047531128, 2.193625807762146, 2.2508192360401154, 2.2422788441181183, 2.277881383895874, 2.232106536626816, 2.257598102092743, 2.2923058569431305, 2.31222927570343, 2.2848620414733887, 2.2929620146751404, 2.3071534037590027, 2.315168797969818, 2.2016398310661316, 2.216672658920288, 2.2271103858947754, 2.2257013618946075, 2.240583300590515, 2.2760857939720154, 2.3116307258605957, 2.2923259139060974, 2.2922937870025635, 2.2923994958400726, 2.249424695968628, 2.24373722076416, 2.255717158317566, 2.295084536075592, 2.2610727846622467, 2.1925023794174194, 2.2875255942344666, 2.2410839796066284, 2.2512311935424805, 2.2407593429088593, 2.211577892303467, 2.2752538323402405, 2.3008391857147217, 2.2125930190086365, 2.259214222431183, 2.2712177634239197, 2.324854552745819, 2.2376508116722107, 2.3041666448116302, 2.258505642414093, 2.2454893589019775, 2.2530234456062317, 2.247037649154663, 2.3903960585594177, 2.201146572828293, 2.2621162831783295, 2.2269707322120667, 2.271013557910919, 2.2372147142887115, 2.3361268639564514, 2.321922481060028, 2.2677566409111023, 2.2532703280448914, 2.268046200275421, 2.3232876658439636, 2.2696374356746674, 2.2603280544281006, 2.3041985630989075, 2.280064582824707]\n"
     ]
    }
   ],
   "source": [
    "#計算所有輪次中的 K 折驗證分數平均值\n",
    "average_mae_history = [\n",
    "    np.mean([x[i] for x in all_mae_histories]) for i in range(num_epochs)]\n",
    "print(average_mae_history)"
   ]
  },
  {
   "cell_type": "markdown",
   "metadata": {
    "colab_type": "text"
   },
   "source": [
    "**Plotting validation scores**"
   ]
  },
  {
   "cell_type": "code",
   "execution_count": 114,
   "metadata": {
    "colab_type": "code"
   },
   "outputs": [
    {
     "data": {
      "image/png": "[encoded data removed]",
      "text/plain": [
       "<Figure size 640x480 with 1 Axes>"
      ]
     },
     "metadata": {},
     "output_type": "display_data"
    }
   ],
   "source": [
    "#繪製驗證分數\n",
    "plt.plot(range(1, len(average_mae_history) + 1), average_mae_history)\n",
    "plt.xlabel(\"Epochs\")\n",
    "plt.ylabel(\"Validation MAE\")\n",
    "plt.show()\n",
    "#從上圖看到，前10個數據點誤差值存有巨大的差異，因此統計時要忽略掉這些點，\n",
    "#後面的數據段誤差值變動很劇烈，但我們從圖中很難看出不同點之間的差異究竟是多少。\n",
    "\n"
   ]
  },
  {
   "cell_type": "markdown",
   "metadata": {
    "colab_type": "text"
   },
   "source": [
    "**Plotting validation scores, excluding the first 10 data points**"
   ]
  },
  {
   "cell_type": "code",
   "execution_count": 58,
   "metadata": {
    "colab_type": "code"
   },
   "outputs": [
    {
     "data": {
      "image/png": "[encoded data removed]",
      "text/plain": [
       "<Figure size 640x480 with 1 Axes>"
      ]
     },
     "metadata": {},
     "output_type": "display_data"
    }
   ],
   "source": [
    "\n",
    "\n",
    "truncated_mae_history = average_mae_history[10:]\n",
    "plt.plot(range(1, len(truncated_mae_history) + 1), truncated_mae_history)\n",
    "plt.xlabel(\"Epochs\")\n",
    "plt.ylabel(\"Validation MAE\")\n",
    "plt.show()"
   ]
  },
  {
   "cell_type": "markdown",
   "metadata": {
    "colab_type": "text"
   },
   "source": [
    "**Training the final model**"
   ]
  },
  {
   "cell_type": "code",
   "execution_count": 117,
   "metadata": {
    "colab_type": "code"
   },
   "outputs": [
    {
     "name": "stdout",
     "output_type": "stream",
     "text": [
      "4/4 [==============================] - 0s 863us/step - loss: 20.9849 - mae: 2.9928\n"
     ]
    }
   ],
   "source": [
    "#重新再訓練模型\n",
    "model = build_model()\n",
    "model.fit(train_data, train_targets,\n",
    "          epochs=130, batch_size=16, verbose=0)\n",
    "test_mse_score, test_mae_score = model.evaluate(test_data, test_targets)"
   ]
  },
  {
   "cell_type": "code",
   "execution_count": 118,
   "metadata": {
    "colab_type": "code"
   },
   "outputs": [
    {
     "data": {
      "text/plain": [
       "2.992760419845581"
      ]
     },
     "execution_count": 118,
     "metadata": {},
     "output_type": "execute_result"
    }
   ],
   "source": [
    "test_mae_score\n",
    "#上面代碼運行後，得到的結果為2.86,也就是說，我們模型對測試數據中位數的預測誤差在2860作用\n",
    "#由於測試數據的中位值在5000多，因此這個誤差還是比較大，主要原因在於數據量過小的原因\n",
    "\n"
   ]
  },
  {
   "cell_type": "markdown",
   "metadata": {
    "colab_type": "text"
   },
   "source": [
    "### Generating predictions on new data"
   ]
  },
  {
   "cell_type": "code",
   "execution_count": 61,
   "metadata": {
    "colab_type": "code"
   },
   "outputs": [
    {
     "name": "stdout",
     "output_type": "stream",
     "text": [
      "4/4 [==============================] - 0s 1ms/step\n"
     ]
    },
    {
     "data": {
      "text/plain": [
       "array([8.37303], dtype=float32)"
      ]
     },
     "execution_count": 61,
     "metadata": {},
     "output_type": "execute_result"
    }
   ],
   "source": [
    "predictions = model.predict(test_data)\n",
    "predictions[0]"
   ]
  },
  {
   "cell_type": "markdown",
   "metadata": {
    "colab_type": "text"
   },
   "source": [
    "### Wrapping up"
   ]
  },
  {
   "cell_type": "markdown",
   "metadata": {
    "colab_type": "text"
   },
   "source": [
    "## Summary"
   ]
  },
  {
   "cell_type": "code",
   "execution_count": null,
   "metadata": {},
   "outputs": [],
   "source": []
  },
  {
   "cell_type": "code",
   "execution_count": null,
   "metadata": {},
   "outputs": [],
   "source": []
  },
  {
   "cell_type": "code",
   "execution_count": null,
   "metadata": {},
   "outputs": [],
   "source": []
  }
 ],
 "metadata": {
  "colab": {
   "collapsed_sections": [],
   "name": "chapter04_getting-started-with-neural-networks.i",
   "private_outputs": false,
   "provenance": [],
   "toc_visible": true
  },
  "kernelspec": {
   "display_name": "Python 3 (ipykernel)",
   "language": "python",
   "name": "python3"
  },
  "language_info": {
   "codemirror_mode": {
    "name": "ipython",
    "version": 3
   },
   "file_extension": ".py",
   "mimetype": "text/x-python",
   "name": "python",
   "nbconvert_exporter": "python",
   "pygments_lexer": "ipython3",
   "version": "3.10.4"
  }
 },
 "nbformat": 4,
 "nbformat_minor": 1
}
