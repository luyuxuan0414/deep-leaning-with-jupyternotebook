{
 "cells": [
  {
   "cell_type": "markdown",
   "metadata": {
    "colab_type": "text"
   },
   "source": [
    "This is a companion notebook for the book [Deep Learning with Python, Second Edition](https://www.manning.com/books/deep-learning-with-python-second-edition?a_aid=keras&a_bid=76564dff). For readability, it only contains runnable code blocks and section titles, and omits everything else in the book: text paragraphs, figures, and pseudocode.\n",
    "\n",
    "**If you want to be able to follow what's going on, I recommend reading the notebook side by side with your copy of the book.**\n",
    "\n",
    "This notebook was generated for TensorFlow 2.6."
   ]
  },
  {
   "cell_type": "markdown",
   "metadata": {
    "colab_type": "text"
   },
   "source": [
    "# Fundamentals of machine learning"
   ]
  },
  {
   "cell_type": "markdown",
   "metadata": {
    "colab_type": "text"
   },
   "source": [
    "## Generalization: The goal of machine learning"
   ]
  },
  {
   "cell_type": "markdown",
   "metadata": {
    "colab_type": "text"
   },
   "source": [
    "### Underfitting and overfitting"
   ]
  },
  {
   "cell_type": "markdown",
   "metadata": {
    "colab_type": "text"
   },
   "source": [
    "#### Noisy training data"
   ]
  },
  {
   "cell_type": "markdown",
   "metadata": {
    "colab_type": "text"
   },
   "source": [
    "#### Ambiguous features"
   ]
  },
  {
   "cell_type": "markdown",
   "metadata": {
    "colab_type": "text"
   },
   "source": [
    "#### Rare features and spurious correlations"
   ]
  },
  {
   "cell_type": "markdown",
   "metadata": {
    "colab_type": "text"
   },
   "source": [
    "**Adding white-noise channels or all-zeros channels to MNIST**"
   ]
  },
  {
   "cell_type": "code",
   "execution_count": 1,
   "metadata": {
    "colab_type": "code"
   },
   "outputs": [],
   "source": [
    "from tensorflow.keras.datasets import mnist\n",
    "import numpy as np\n",
    "\n",
    "(train_images, train_labels), _ = mnist.load_data()\n",
    "#正規化\n",
    "train_images = train_images.reshape((60000, 28 * 28))\n",
    "train_images = train_images.astype(\"float32\") / 255\n",
    "#向MNIST添加白噪聲通道或全零通道\n",
    "train_images_with_noise_channels = np.concatenate(\n",
    "    [train_images, np.random.random((len(train_images), 784))], axis=1)\n",
    "\n",
    "train_images_with_zeros_channels = np.concatenate(\n",
    "    [train_images, np.zeros((len(train_images), 784))], axis=1)"
   ]
  },
  {
   "cell_type": "code",
   "execution_count": 2,
   "metadata": {},
   "outputs": [
    {
     "name": "stdout",
     "output_type": "stream",
     "text": [
      "[[0.         0.         0.         ... 0.86951522 0.60460456 0.50080854]\n",
      " [0.         0.         0.         ... 0.6512873  0.4971629  0.44089091]\n",
      " [0.         0.         0.         ... 0.72354367 0.80476684 0.67880474]\n",
      " ...\n",
      " [0.         0.         0.         ... 0.70578945 0.45130066 0.84526218]\n",
      " [0.         0.         0.         ... 0.73195914 0.77499406 0.33724308]\n",
      " [0.         0.         0.         ... 0.22733655 0.20159077 0.28914862]]\n"
     ]
    }
   ],
   "source": [
    "print(train_images_with_noise_channels)"
   ]
  },
  {
   "cell_type": "code",
   "execution_count": 3,
   "metadata": {},
   "outputs": [
    {
     "name": "stdout",
     "output_type": "stream",
     "text": [
      "[[0. 0. 0. ... 0. 0. 0.]\n",
      " [0. 0. 0. ... 0. 0. 0.]\n",
      " [0. 0. 0. ... 0. 0. 0.]\n",
      " ...\n",
      " [0. 0. 0. ... 0. 0. 0.]\n",
      " [0. 0. 0. ... 0. 0. 0.]\n",
      " [0. 0. 0. ... 0. 0. 0.]]\n"
     ]
    }
   ],
   "source": [
    "print(train_images_with_zeros_channels)"
   ]
  },
  {
   "cell_type": "markdown",
   "metadata": {
    "colab_type": "text"
   },
   "source": [
    "**Training the same model on MNIST data with noise channels or all-zero channels**"
   ]
  },
  {
   "cell_type": "code",
   "execution_count": 5,
   "metadata": {
    "colab_type": "code"
   },
   "outputs": [
    {
     "name": "stdout",
     "output_type": "stream",
     "text": [
      "Epoch 1/10\n",
      "375/375 [==============================] - 3s 7ms/step - loss: 0.6254 - accuracy: 0.8111 - val_loss: 0.2527 - val_accuracy: 0.9248\n",
      "Epoch 2/10\n",
      "375/375 [==============================] - 2s 6ms/step - loss: 0.2520 - accuracy: 0.9221 - val_loss: 0.2556 - val_accuracy: 0.9218\n",
      "Epoch 3/10\n",
      "375/375 [==============================] - 2s 6ms/step - loss: 0.1654 - accuracy: 0.9483 - val_loss: 0.1717 - val_accuracy: 0.9496\n",
      "Epoch 4/10\n",
      "375/375 [==============================] - 2s 6ms/step - loss: 0.1156 - accuracy: 0.9634 - val_loss: 0.1528 - val_accuracy: 0.9544\n",
      "Epoch 5/10\n",
      "375/375 [==============================] - 2s 6ms/step - loss: 0.0832 - accuracy: 0.9738 - val_loss: 0.1886 - val_accuracy: 0.9488\n",
      "Epoch 6/10\n",
      "375/375 [==============================] - 2s 6ms/step - loss: 0.0635 - accuracy: 0.9795 - val_loss: 0.1495 - val_accuracy: 0.9569\n",
      "Epoch 7/10\n",
      "375/375 [==============================] - 2s 6ms/step - loss: 0.0474 - accuracy: 0.9847 - val_loss: 0.1470 - val_accuracy: 0.9614\n",
      "Epoch 8/10\n",
      "375/375 [==============================] - 2s 6ms/step - loss: 0.0344 - accuracy: 0.9887 - val_loss: 0.1395 - val_accuracy: 0.9633\n",
      "Epoch 9/10\n",
      "375/375 [==============================] - 2s 7ms/step - loss: 0.0280 - accuracy: 0.9910 - val_loss: 0.1297 - val_accuracy: 0.9691\n",
      "Epoch 10/10\n",
      "375/375 [==============================] - 2s 6ms/step - loss: 0.0219 - accuracy: 0.9929 - val_loss: 0.1418 - val_accuracy: 0.9686\n"
     ]
    }
   ],
   "source": [
    "from tensorflow import keras\n",
    "from tensorflow.keras import layers\n",
    "\n",
    "#自己定義且構建一個model\n",
    "\n",
    "def get_model():\n",
    "    model = keras.Sequential([\n",
    "        layers.Dense(512, activation=\"relu\"),#第一層（輸入層）有512個隱藏神經元 \n",
    "        layers.Dense(10, activation=\"softmax\")\n",
    "        #輸出層的激活函數選取softmax，這樣可以求取每個取值的概率，這裏一共10個概率且和爲1。\n",
    "    ])\n",
    "    #設置模型的損失函數、優化器、評估標準\n",
    "    model.compile(optimizer=\"rmsprop\",\n",
    "                  loss=\"sparse_categorical_crossentropy\",\n",
    "                  metrics=[\"accuracy\"])\n",
    "    return model\n",
    "\n",
    "model = get_model()#呼叫自定義model 且assign給model變數\n",
    "history_noise = model.fit(#model.fit()進行訓練\n",
    "    train_images_with_noise_channels, train_labels,\n",
    "    epochs=10,\n",
    "    batch_size=128,\n",
    "    validation_split=0.2)\n",
    "#x 即訓練數據；\n",
    "#y 即訓練數據標籤；\n",
    "#epochs 即將訓練數據迭代次數；\n",
    "#batch_size 即批大小；\n",
    "#設定參數validation_split=0.2\n",
    "#訓練前keras會將資料分成80%訓練資料與20%驗證資料。\n",
    "#假設為全部是60000筆，所以分成600000.8=48000作為訓練資料，600000.2=12000作為驗證資料)\n"
   ]
  },
  {
   "cell_type": "code",
   "execution_count": 6,
   "metadata": {},
   "outputs": [
    {
     "name": "stdout",
     "output_type": "stream",
     "text": [
      "Epoch 1/10\n",
      "375/375 [==============================] - 3s 7ms/step - loss: 0.2898 - accuracy: 0.9154 - val_loss: 0.1542 - val_accuracy: 0.9552\n",
      "Epoch 2/10\n",
      "375/375 [==============================] - 2s 6ms/step - loss: 0.1203 - accuracy: 0.9647 - val_loss: 0.1067 - val_accuracy: 0.9704\n",
      "Epoch 3/10\n",
      "375/375 [==============================] - 2s 6ms/step - loss: 0.0786 - accuracy: 0.9769 - val_loss: 0.0977 - val_accuracy: 0.9717\n",
      "Epoch 4/10\n",
      "375/375 [==============================] - 2s 6ms/step - loss: 0.0564 - accuracy: 0.9834 - val_loss: 0.1010 - val_accuracy: 0.9719\n",
      "Epoch 5/10\n",
      "375/375 [==============================] - 2s 6ms/step - loss: 0.0427 - accuracy: 0.9872 - val_loss: 0.0816 - val_accuracy: 0.9764\n",
      "Epoch 6/10\n",
      "375/375 [==============================] - 3s 7ms/step - loss: 0.0322 - accuracy: 0.9908 - val_loss: 0.0800 - val_accuracy: 0.9768\n",
      "Epoch 7/10\n",
      "375/375 [==============================] - 2s 6ms/step - loss: 0.0242 - accuracy: 0.9930 - val_loss: 0.0829 - val_accuracy: 0.9787\n",
      "Epoch 8/10\n",
      "375/375 [==============================] - 2s 6ms/step - loss: 0.0187 - accuracy: 0.9945 - val_loss: 0.0819 - val_accuracy: 0.9793\n",
      "Epoch 9/10\n",
      "375/375 [==============================] - 2s 6ms/step - loss: 0.0142 - accuracy: 0.9961 - val_loss: 0.0858 - val_accuracy: 0.9795\n",
      "Epoch 10/10\n",
      "375/375 [==============================] - 2s 6ms/step - loss: 0.0106 - accuracy: 0.9971 - val_loss: 0.0879 - val_accuracy: 0.9778\n"
     ]
    }
   ],
   "source": [
    "#解釋同上\n",
    "model = get_model()\n",
    "history_zeros = model.fit(\n",
    "    train_images_with_zeros_channels, train_labels,\n",
    "    epochs=10,\n",
    "    batch_size=128,\n",
    "    validation_split=0.2)"
   ]
  },
  {
   "cell_type": "markdown",
   "metadata": {
    "colab_type": "text"
   },
   "source": [
    "**Plotting a validation accuracy comparison**"
   ]
  },
  {
   "cell_type": "code",
   "execution_count": 7,
   "metadata": {
    "colab_type": "code"
   },
   "outputs": [
    {
     "data": {
      "text/plain": [
       "<matplotlib.legend.Legend at 0x7ff4be618be0>"
      ]
     },
     "execution_count": 7,
     "metadata": {},
     "output_type": "execute_result"
    },
    {
     "data": {
      "image/png": "[encoded data removed]",
      "text/plain": [
       "<Figure size 640x480 with 1 Axes>"
      ]
     },
     "metadata": {},
     "output_type": "display_data"
    }
   ],
   "source": [
    "#繪製訓練精度和驗證精度\n",
    "import matplotlib.pyplot as plt\n",
    "val_acc_noise = history_noise.history[\"val_accuracy\"]\n",
    "val_acc_zeros = history_zeros.history[\"val_accuracy\"]\n",
    "epochs = range(1, 11)\n",
    "plt.plot(epochs, val_acc_noise, \"b-\",\n",
    "         label=\"Validation accuracy with noise channels\")\n",
    "plt.plot(epochs, val_acc_zeros, \"b--\",\n",
    "         label=\"Validation accuracy with zeros channels\")\n",
    "plt.title(\"Effect of noise channels on validation accuracy\")\n",
    "plt.xlabel(\"Epochs\")\n",
    "plt.ylabel(\"Accuracy\")\n",
    "plt.legend()"
   ]
  },
  {
   "cell_type": "markdown",
   "metadata": {
    "colab_type": "text"
   },
   "source": [
    "### The nature of generalization in deep learning"
   ]
  },
  {
   "cell_type": "markdown",
   "metadata": {
    "colab_type": "text"
   },
   "source": [
    "**Fitting a MNIST model with randomly shuffled labels**"
   ]
  },
  {
   "cell_type": "code",
   "execution_count": 10,
   "metadata": {
    "colab_type": "code"
   },
   "outputs": [
    {
     "name": "stdout",
     "output_type": "stream",
     "text": [
      "Epoch 1/20\n",
      "375/375 [==============================] - 2s 4ms/step - loss: 2.3168 - accuracy: 0.1046 - val_loss: 2.3074 - val_accuracy: 0.1018\n",
      "Epoch 2/20\n",
      "375/375 [==============================] - 1s 4ms/step - loss: 2.2997 - accuracy: 0.1171 - val_loss: 2.3145 - val_accuracy: 0.1028\n",
      "Epoch 3/20\n",
      "375/375 [==============================] - 1s 4ms/step - loss: 2.2911 - accuracy: 0.1268 - val_loss: 2.3161 - val_accuracy: 0.1032\n",
      "Epoch 4/20\n",
      "375/375 [==============================] - 1s 4ms/step - loss: 2.2770 - accuracy: 0.1416 - val_loss: 2.3311 - val_accuracy: 0.1016\n",
      "Epoch 5/20\n",
      "375/375 [==============================] - 1s 4ms/step - loss: 2.2601 - accuracy: 0.1531 - val_loss: 2.3382 - val_accuracy: 0.0993\n",
      "Epoch 6/20\n",
      "375/375 [==============================] - 1s 4ms/step - loss: 2.2390 - accuracy: 0.1709 - val_loss: 2.3501 - val_accuracy: 0.0997\n",
      "Epoch 7/20\n",
      "375/375 [==============================] - 1s 4ms/step - loss: 2.2150 - accuracy: 0.1831 - val_loss: 2.3685 - val_accuracy: 0.0986\n",
      "Epoch 8/20\n",
      "375/375 [==============================] - 2s 4ms/step - loss: 2.1884 - accuracy: 0.1987 - val_loss: 2.3811 - val_accuracy: 0.0996\n",
      "Epoch 9/20\n",
      "375/375 [==============================] - 1s 4ms/step - loss: 2.1586 - accuracy: 0.2146 - val_loss: 2.3988 - val_accuracy: 0.1018\n",
      "Epoch 10/20\n",
      "375/375 [==============================] - 2s 4ms/step - loss: 2.1274 - accuracy: 0.2301 - val_loss: 2.4329 - val_accuracy: 0.0979\n",
      "Epoch 11/20\n",
      "375/375 [==============================] - 2s 4ms/step - loss: 2.0963 - accuracy: 0.2425 - val_loss: 2.4423 - val_accuracy: 0.0966\n",
      "Epoch 12/20\n",
      "375/375 [==============================] - 1s 4ms/step - loss: 2.0612 - accuracy: 0.2619 - val_loss: 2.4584 - val_accuracy: 0.1023\n",
      "Epoch 13/20\n",
      "375/375 [==============================] - 1s 4ms/step - loss: 2.0259 - accuracy: 0.2778 - val_loss: 2.5012 - val_accuracy: 0.1053\n",
      "Epoch 14/20\n",
      "375/375 [==============================] - 2s 4ms/step - loss: 1.9929 - accuracy: 0.2922 - val_loss: 2.5364 - val_accuracy: 0.1018\n",
      "Epoch 15/20\n",
      "375/375 [==============================] - 2s 4ms/step - loss: 1.9581 - accuracy: 0.3083 - val_loss: 2.5641 - val_accuracy: 0.1008\n",
      "Epoch 16/20\n",
      "375/375 [==============================] - 1s 4ms/step - loss: 1.9245 - accuracy: 0.3210 - val_loss: 2.5928 - val_accuracy: 0.0989\n",
      "Epoch 17/20\n",
      "375/375 [==============================] - 2s 4ms/step - loss: 1.8896 - accuracy: 0.3322 - val_loss: 2.6085 - val_accuracy: 0.0981\n",
      "Epoch 18/20\n",
      "375/375 [==============================] - 2s 4ms/step - loss: 1.8560 - accuracy: 0.3488 - val_loss: 2.6525 - val_accuracy: 0.1008\n",
      "Epoch 19/20\n",
      "375/375 [==============================] - 2s 4ms/step - loss: 1.8221 - accuracy: 0.3606 - val_loss: 2.6981 - val_accuracy: 0.1037\n",
      "Epoch 20/20\n",
      "375/375 [==============================] - 2s 4ms/step - loss: 1.7918 - accuracy: 0.3741 - val_loss: 2.7304 - val_accuracy: 0.0967\n"
     ]
    },
    {
     "data": {
      "text/plain": [
       "<keras.callbacks.History at 0x7ff3c8c33a30>"
      ]
     },
     "execution_count": 10,
     "metadata": {},
     "output_type": "execute_result"
    }
   ],
   "source": [
    "(train_images, train_labels), _ = mnist.load_data()\n",
    "#正規化\n",
    "train_images = train_images.reshape((60000, 28 * 28))\n",
    "train_images = train_images.astype(\"float32\") / 255\n",
    "\n",
    "random_train_labels = train_labels[:]\n",
    "np.random.shuffle(random_train_labels)\n",
    "#shuffle()可隨機打亂原始數組\n",
    "\n",
    "#構建網絡\n",
    "model = keras.Sequential([\n",
    "    layers.Dense(512, activation=\"relu\"),#輸入層(第一層)有512個隱藏神經元\n",
    "    layers.Dense(10, activation=\"softmax\")#輸出層有10維 softmax(這樣可以讓output每一維的機率和為1)\n",
    "])\n",
    "#設置模型的損失函數、優化器、評估標準\n",
    "model.compile(optimizer=\"rmsprop\",\n",
    "              loss=\"sparse_categorical_crossentropy\",\n",
    "              metrics=[\"accuracy\"])\n",
    "\n",
    "model.fit(train_images, random_train_labels,\n",
    "          epochs=20,#(此處訓練20次不夠！要至少100 準確率才會高)\n",
    "          batch_size=128,\n",
    "          validation_split=0.2)"
   ]
  },
  {
   "cell_type": "markdown",
   "metadata": {
    "colab_type": "text"
   },
   "source": [
    "#### The manifold hypothesis"
   ]
  },
  {
   "cell_type": "markdown",
   "metadata": {
    "colab_type": "text"
   },
   "source": [
    "#### Interpolation as a source of generalization"
   ]
  },
  {
   "cell_type": "markdown",
   "metadata": {
    "colab_type": "text"
   },
   "source": [
    "#### Why deep learning works"
   ]
  },
  {
   "cell_type": "markdown",
   "metadata": {
    "colab_type": "text"
   },
   "source": [
    "#### Training data is paramount"
   ]
  },
  {
   "cell_type": "markdown",
   "metadata": {
    "colab_type": "text"
   },
   "source": [
    "## Evaluating machine-learning models"
   ]
  },
  {
   "cell_type": "markdown",
   "metadata": {
    "colab_type": "text"
   },
   "source": [
    "### Training, validation, and test sets"
   ]
  },
  {
   "cell_type": "markdown",
   "metadata": {
    "colab_type": "text"
   },
   "source": [
    "#### Simple hold-out validation"
   ]
  },
  {
   "cell_type": "markdown",
   "metadata": {
    "colab_type": "text"
   },
   "source": [
    "#### K-fold validation"
   ]
  },
  {
   "cell_type": "markdown",
   "metadata": {
    "colab_type": "text"
   },
   "source": [
    "#### Iterated K-fold validation with shuffling"
   ]
  },
  {
   "cell_type": "markdown",
   "metadata": {
    "colab_type": "text"
   },
   "source": [
    "### Beating a common-sense baseline"
   ]
  },
  {
   "cell_type": "markdown",
   "metadata": {
    "colab_type": "text"
   },
   "source": [
    "### Things to keep in mind about model evaluation"
   ]
  },
  {
   "cell_type": "markdown",
   "metadata": {
    "colab_type": "text"
   },
   "source": [
    "## Improving model fit"
   ]
  },
  {
   "cell_type": "markdown",
   "metadata": {
    "colab_type": "text"
   },
   "source": [
    "### Tuning key gradient descent parameters"
   ]
  },
  {
   "cell_type": "markdown",
   "metadata": {
    "colab_type": "text"
   },
   "source": [
    "**Training a MNIST model with an incorrectly high learning rate**"
   ]
  },
  {
   "cell_type": "code",
   "execution_count": 14,
   "metadata": {
    "colab_type": "code"
   },
   "outputs": [
    {
     "name": "stdout",
     "output_type": "stream",
     "text": [
      "Epoch 1/10\n",
      "375/375 [==============================] - 2s 4ms/step - loss: 0.2887 - accuracy: 0.9174 - val_loss: 0.1427 - val_accuracy: 0.9604\n",
      "Epoch 2/10\n",
      "375/375 [==============================] - 1s 4ms/step - loss: 0.1181 - accuracy: 0.9653 - val_loss: 0.1082 - val_accuracy: 0.9679\n",
      "Epoch 3/10\n",
      "375/375 [==============================] - 1s 4ms/step - loss: 0.0778 - accuracy: 0.9768 - val_loss: 0.0960 - val_accuracy: 0.9705\n",
      "Epoch 4/10\n",
      "375/375 [==============================] - 2s 4ms/step - loss: 0.0560 - accuracy: 0.9832 - val_loss: 0.0914 - val_accuracy: 0.9734\n",
      "Epoch 5/10\n",
      "375/375 [==============================] - 1s 4ms/step - loss: 0.0414 - accuracy: 0.9874 - val_loss: 0.0900 - val_accuracy: 0.9752\n",
      "Epoch 6/10\n",
      "375/375 [==============================] - 1s 4ms/step - loss: 0.0312 - accuracy: 0.9908 - val_loss: 0.0803 - val_accuracy: 0.9772\n",
      "Epoch 7/10\n",
      "375/375 [==============================] - 2s 4ms/step - loss: 0.0230 - accuracy: 0.9934 - val_loss: 0.0853 - val_accuracy: 0.9774\n",
      "Epoch 8/10\n",
      "375/375 [==============================] - 1s 4ms/step - loss: 0.0180 - accuracy: 0.9946 - val_loss: 0.0834 - val_accuracy: 0.9782\n",
      "Epoch 9/10\n",
      "375/375 [==============================] - 1s 4ms/step - loss: 0.0130 - accuracy: 0.9963 - val_loss: 0.0941 - val_accuracy: 0.9767\n",
      "Epoch 10/10\n",
      "375/375 [==============================] - 1s 4ms/step - loss: 0.0098 - accuracy: 0.9973 - val_loss: 0.0890 - val_accuracy: 0.9794\n"
     ]
    },
    {
     "data": {
      "text/plain": [
       "<keras.callbacks.History at 0x7ff3c9e475e0>"
      ]
     },
     "execution_count": 14,
     "metadata": {},
     "output_type": "execute_result"
    }
   ],
   "source": [
    "(train_images, train_labels), _ = mnist.load_data()\n",
    "train_images = train_images.reshape((60000, 28 * 28))\n",
    "train_images = train_images.astype(\"float32\") / 255\n",
    "\n",
    "model = keras.Sequential([\n",
    "    layers.Dense(512, activation=\"relu\"),\n",
    "    layers.Dense(10, activation=\"softmax\")\n",
    "])\n",
    "model.compile(optimizer=keras.optimizers.RMSprop(0.001),\n",
    "              #keras.optimizers.RMSprop()參數越小，loss會越小！準確率越高！\n",
    "              loss=\"sparse_categorical_crossentropy\",\n",
    "              metrics=[\"accuracy\"])\n",
    "model.fit(train_images, train_labels,\n",
    "          epochs=10,\n",
    "          batch_size=128,\n",
    "          validation_split=0.2)"
   ]
  },
  {
   "cell_type": "markdown",
   "metadata": {
    "colab_type": "text"
   },
   "source": [
    "**The same model with a more appropriate learning rate**"
   ]
  },
  {
   "cell_type": "code",
   "execution_count": 15,
   "metadata": {
    "colab_type": "code"
   },
   "outputs": [
    {
     "name": "stdout",
     "output_type": "stream",
     "text": [
      "Epoch 1/10\n",
      "375/375 [==============================] - 2s 4ms/step - loss: 0.3600 - accuracy: 0.9131 - val_loss: 0.2134 - val_accuracy: 0.9428\n",
      "Epoch 2/10\n",
      "375/375 [==============================] - 1s 4ms/step - loss: 0.1439 - accuracy: 0.9637 - val_loss: 0.1687 - val_accuracy: 0.9614\n",
      "Epoch 3/10\n",
      "375/375 [==============================] - 1s 4ms/step - loss: 0.1121 - accuracy: 0.9728 - val_loss: 0.1613 - val_accuracy: 0.9700\n",
      "Epoch 4/10\n",
      "375/375 [==============================] - 1s 4ms/step - loss: 0.0968 - accuracy: 0.9785 - val_loss: 0.1667 - val_accuracy: 0.9729\n",
      "Epoch 5/10\n",
      "375/375 [==============================] - 2s 4ms/step - loss: 0.0859 - accuracy: 0.9821 - val_loss: 0.1981 - val_accuracy: 0.9707\n",
      "Epoch 6/10\n",
      "375/375 [==============================] - 1s 4ms/step - loss: 0.0746 - accuracy: 0.9852 - val_loss: 0.2651 - val_accuracy: 0.9625\n",
      "Epoch 7/10\n",
      "375/375 [==============================] - 1s 4ms/step - loss: 0.0765 - accuracy: 0.9863 - val_loss: 0.2196 - val_accuracy: 0.9743\n",
      "Epoch 8/10\n",
      "375/375 [==============================] - 1s 4ms/step - loss: 0.0607 - accuracy: 0.9883 - val_loss: 0.3131 - val_accuracy: 0.9675\n",
      "Epoch 9/10\n",
      "375/375 [==============================] - 2s 4ms/step - loss: 0.0567 - accuracy: 0.9894 - val_loss: 0.2796 - val_accuracy: 0.9737\n",
      "Epoch 10/10\n",
      "375/375 [==============================] - 1s 4ms/step - loss: 0.0476 - accuracy: 0.9916 - val_loss: 0.2948 - val_accuracy: 0.9751\n"
     ]
    },
    {
     "data": {
      "text/plain": [
       "<keras.callbacks.History at 0x7ff4886216c0>"
      ]
     },
     "execution_count": 15,
     "metadata": {},
     "output_type": "execute_result"
    }
   ],
   "source": [
    "model = keras.Sequential([\n",
    "    layers.Dense(512, activation=\"relu\"),\n",
    "    layers.Dense(10, activation=\"softmax\")\n",
    "])\n",
    "model.compile(optimizer=keras.optimizers.RMSprop(1e-2),#1e-2 = 0.01 \n",
    "              #由於0.01比上題程式碼參數較小，所以loss較大，準確率較低！\n",
    "              loss=\"sparse_categorical_crossentropy\",\n",
    "              metrics=[\"accuracy\"])\n",
    "model.fit(train_images, train_labels,\n",
    "          epochs=10,\n",
    "          batch_size=128,\n",
    "          validation_split=0.2)"
   ]
  },
  {
   "cell_type": "markdown",
   "metadata": {
    "colab_type": "text"
   },
   "source": [
    "### Leveraging better architecture priors"
   ]
  },
  {
   "cell_type": "markdown",
   "metadata": {
    "colab_type": "text"
   },
   "source": [
    "### Increasing model capacity"
   ]
  },
  {
   "cell_type": "markdown",
   "metadata": {
    "colab_type": "text"
   },
   "source": [
    "**A simple logistic regression on MNIST**"
   ]
  },
  {
   "cell_type": "code",
   "execution_count": 16,
   "metadata": {
    "colab_type": "code"
   },
   "outputs": [
    {
     "name": "stdout",
     "output_type": "stream",
     "text": [
      "Epoch 1/20\n",
      "375/375 [==============================] - 1s 1ms/step - loss: 0.6573 - accuracy: 0.8401 - val_loss: 0.3620 - val_accuracy: 0.9021\n",
      "Epoch 2/20\n",
      "375/375 [==============================] - 0s 825us/step - loss: 0.3502 - accuracy: 0.9035 - val_loss: 0.3077 - val_accuracy: 0.9148\n",
      "Epoch 3/20\n",
      "375/375 [==============================] - 0s 836us/step - loss: 0.3149 - accuracy: 0.9124 - val_loss: 0.2895 - val_accuracy: 0.9187\n",
      "Epoch 4/20\n",
      "375/375 [==============================] - 0s 815us/step - loss: 0.2986 - accuracy: 0.9161 - val_loss: 0.2813 - val_accuracy: 0.9218\n",
      "Epoch 5/20\n",
      "375/375 [==============================] - 0s 823us/step - loss: 0.2895 - accuracy: 0.9190 - val_loss: 0.2751 - val_accuracy: 0.9241\n",
      "Epoch 6/20\n",
      "375/375 [==============================] - 0s 847us/step - loss: 0.2828 - accuracy: 0.9208 - val_loss: 0.2725 - val_accuracy: 0.9252\n",
      "Epoch 7/20\n",
      "375/375 [==============================] - 0s 866us/step - loss: 0.2777 - accuracy: 0.9221 - val_loss: 0.2676 - val_accuracy: 0.9275\n",
      "Epoch 8/20\n",
      "375/375 [==============================] - 0s 815us/step - loss: 0.2739 - accuracy: 0.9234 - val_loss: 0.2671 - val_accuracy: 0.9293\n",
      "Epoch 9/20\n",
      "375/375 [==============================] - 0s 827us/step - loss: 0.2711 - accuracy: 0.9245 - val_loss: 0.2657 - val_accuracy: 0.9278\n",
      "Epoch 10/20\n",
      "375/375 [==============================] - 0s 841us/step - loss: 0.2683 - accuracy: 0.9249 - val_loss: 0.2647 - val_accuracy: 0.9295\n",
      "Epoch 11/20\n",
      "375/375 [==============================] - 0s 814us/step - loss: 0.2664 - accuracy: 0.9261 - val_loss: 0.2647 - val_accuracy: 0.9293\n",
      "Epoch 12/20\n",
      "375/375 [==============================] - 0s 822us/step - loss: 0.2646 - accuracy: 0.9271 - val_loss: 0.2632 - val_accuracy: 0.9286\n",
      "Epoch 13/20\n",
      "375/375 [==============================] - 0s 848us/step - loss: 0.2629 - accuracy: 0.9276 - val_loss: 0.2636 - val_accuracy: 0.9294\n",
      "Epoch 14/20\n",
      "375/375 [==============================] - 0s 833us/step - loss: 0.2615 - accuracy: 0.9280 - val_loss: 0.2609 - val_accuracy: 0.9306\n",
      "Epoch 15/20\n",
      "375/375 [==============================] - 0s 845us/step - loss: 0.2604 - accuracy: 0.9281 - val_loss: 0.2616 - val_accuracy: 0.9305\n",
      "Epoch 16/20\n",
      "375/375 [==============================] - 0s 819us/step - loss: 0.2591 - accuracy: 0.9290 - val_loss: 0.2619 - val_accuracy: 0.9298\n",
      "Epoch 17/20\n",
      "375/375 [==============================] - 0s 807us/step - loss: 0.2580 - accuracy: 0.9286 - val_loss: 0.2619 - val_accuracy: 0.9303\n",
      "Epoch 18/20\n",
      "375/375 [==============================] - 0s 840us/step - loss: 0.2570 - accuracy: 0.9298 - val_loss: 0.2639 - val_accuracy: 0.9294\n",
      "Epoch 19/20\n",
      "375/375 [==============================] - 0s 864us/step - loss: 0.2562 - accuracy: 0.9308 - val_loss: 0.2637 - val_accuracy: 0.9287\n",
      "Epoch 20/20\n",
      "375/375 [==============================] - 0s 826us/step - loss: 0.2556 - accuracy: 0.9297 - val_loss: 0.2639 - val_accuracy: 0.9293\n"
     ]
    }
   ],
   "source": [
    "model = keras.Sequential([layers.Dense(10, activation=\"softmax\")])\n",
    "model.compile(optimizer=\"rmsprop\",\n",
    "              loss=\"sparse_categorical_crossentropy\",\n",
    "              metrics=[\"accuracy\"])\n",
    "history_small_model = model.fit(\n",
    "    train_images, train_labels,\n",
    "    epochs=20,\n",
    "    batch_size=128,\n",
    "    validation_split=0.2)"
   ]
  },
  {
   "cell_type": "code",
   "execution_count": 17,
   "metadata": {
    "colab_type": "code"
   },
   "outputs": [
    {
     "data": {
      "text/plain": [
       "<matplotlib.legend.Legend at 0x7ff4ab9fb9a0>"
      ]
     },
     "execution_count": 17,
     "metadata": {},
     "output_type": "execute_result"
    },
    {
     "data": {
      "image/png": "[encoded data removed]",
      "text/plain": [
       "<Figure size 640x480 with 1 Axes>"
      ]
     },
     "metadata": {},
     "output_type": "display_data"
    }
   ],
   "source": [
    "import matplotlib.pyplot as plt\n",
    "val_loss = history_small_model.history[\"val_loss\"]\n",
    "epochs = range(1, 21)\n",
    "plt.plot(epochs, val_loss, \"b--\",\n",
    "         label=\"Validation loss\")\n",
    "plt.title(\"Effect of insufficient model capacity on validation loss\")\n",
    "plt.xlabel(\"Epochs\")\n",
    "plt.ylabel(\"Loss\")\n",
    "plt.legend()"
   ]
  },
  {
   "cell_type": "code",
   "execution_count": 18,
   "metadata": {
    "colab_type": "code"
   },
   "outputs": [
    {
     "name": "stdout",
     "output_type": "stream",
     "text": [
      "Epoch 1/20\n",
      "375/375 [==============================] - 1s 2ms/step - loss: 0.3607 - accuracy: 0.8990 - val_loss: 0.1863 - val_accuracy: 0.9469\n",
      "Epoch 2/20\n",
      "375/375 [==============================] - 1s 2ms/step - loss: 0.1638 - accuracy: 0.9511 - val_loss: 0.1541 - val_accuracy: 0.9537\n",
      "Epoch 3/20\n",
      "375/375 [==============================] - 1s 2ms/step - loss: 0.1160 - accuracy: 0.9659 - val_loss: 0.1220 - val_accuracy: 0.9639\n",
      "Epoch 4/20\n",
      "375/375 [==============================] - 1s 2ms/step - loss: 0.0902 - accuracy: 0.9727 - val_loss: 0.1026 - val_accuracy: 0.9709\n",
      "Epoch 5/20\n",
      "375/375 [==============================] - 1s 2ms/step - loss: 0.0714 - accuracy: 0.9778 - val_loss: 0.1034 - val_accuracy: 0.9697\n",
      "Epoch 6/20\n",
      "375/375 [==============================] - 1s 2ms/step - loss: 0.0598 - accuracy: 0.9823 - val_loss: 0.1016 - val_accuracy: 0.9717\n",
      "Epoch 7/20\n",
      "375/375 [==============================] - 1s 2ms/step - loss: 0.0491 - accuracy: 0.9851 - val_loss: 0.0965 - val_accuracy: 0.9731\n",
      "Epoch 8/20\n",
      "375/375 [==============================] - 1s 2ms/step - loss: 0.0416 - accuracy: 0.9869 - val_loss: 0.0946 - val_accuracy: 0.9754\n",
      "Epoch 9/20\n",
      "375/375 [==============================] - 1s 2ms/step - loss: 0.0341 - accuracy: 0.9895 - val_loss: 0.1072 - val_accuracy: 0.9718\n",
      "Epoch 10/20\n",
      "375/375 [==============================] - 1s 2ms/step - loss: 0.0291 - accuracy: 0.9911 - val_loss: 0.0951 - val_accuracy: 0.9750\n",
      "Epoch 11/20\n",
      "375/375 [==============================] - 1s 2ms/step - loss: 0.0245 - accuracy: 0.9927 - val_loss: 0.0954 - val_accuracy: 0.9746\n",
      "Epoch 12/20\n",
      "375/375 [==============================] - 1s 2ms/step - loss: 0.0215 - accuracy: 0.9934 - val_loss: 0.1017 - val_accuracy: 0.9757\n",
      "Epoch 13/20\n",
      "375/375 [==============================] - 1s 2ms/step - loss: 0.0171 - accuracy: 0.9949 - val_loss: 0.1022 - val_accuracy: 0.9766\n",
      "Epoch 14/20\n",
      "375/375 [==============================] - 1s 2ms/step - loss: 0.0149 - accuracy: 0.9955 - val_loss: 0.1135 - val_accuracy: 0.9756\n",
      "Epoch 15/20\n",
      "375/375 [==============================] - 1s 2ms/step - loss: 0.0133 - accuracy: 0.9957 - val_loss: 0.1116 - val_accuracy: 0.9766\n",
      "Epoch 16/20\n",
      "375/375 [==============================] - 1s 2ms/step - loss: 0.0110 - accuracy: 0.9965 - val_loss: 0.1150 - val_accuracy: 0.9751\n",
      "Epoch 17/20\n",
      "375/375 [==============================] - 1s 2ms/step - loss: 0.0098 - accuracy: 0.9966 - val_loss: 0.1127 - val_accuracy: 0.9766\n",
      "Epoch 18/20\n",
      "375/375 [==============================] - 1s 2ms/step - loss: 0.0083 - accuracy: 0.9975 - val_loss: 0.1233 - val_accuracy: 0.9764\n",
      "Epoch 19/20\n",
      "375/375 [==============================] - 1s 2ms/step - loss: 0.0072 - accuracy: 0.9977 - val_loss: 0.1177 - val_accuracy: 0.9769\n",
      "Epoch 20/20\n",
      "375/375 [==============================] - 1s 2ms/step - loss: 0.0060 - accuracy: 0.9983 - val_loss: 0.1375 - val_accuracy: 0.9743\n"
     ]
    }
   ],
   "source": [
    "model = keras.Sequential([\n",
    "    #TensorFlow 輸入神經元的個數等於上一層的輸出。\n",
    "    layers.Dense(96, activation=\"relu\"),#輸入層 96個隱藏神經元\n",
    "    layers.Dense(96, activation=\"relu\"),#輸入層 同上\n",
    "    layers.Dense(10, activation=\"softmax\"),#輸出層 10維\n",
    "])\n",
    "\n",
    "model.compile(optimizer=\"rmsprop\",\n",
    "              loss=\"sparse_categorical_crossentropy\",\n",
    "              metrics=[\"accuracy\"]\n",
    "             )\n",
    "history_large_model = model.fit(\n",
    "    train_images, train_labels,\n",
    "    epochs=20,\n",
    "    batch_size=128,\n",
    "    validation_split=0.2)"
   ]
  },
  {
   "cell_type": "markdown",
   "metadata": {
    "colab_type": "text"
   },
   "source": [
    "## Improving generalization"
   ]
  },
  {
   "cell_type": "markdown",
   "metadata": {
    "colab_type": "text"
   },
   "source": [
    "### Dataset curation"
   ]
  },
  {
   "cell_type": "markdown",
   "metadata": {
    "colab_type": "text"
   },
   "source": [
    "### Feature engineering"
   ]
  },
  {
   "cell_type": "markdown",
   "metadata": {
    "colab_type": "text"
   },
   "source": [
    "### Using early stopping"
   ]
  },
  {
   "cell_type": "markdown",
   "metadata": {
    "colab_type": "text"
   },
   "source": [
    "### Regularizing your model"
   ]
  },
  {
   "cell_type": "markdown",
   "metadata": {
    "colab_type": "text"
   },
   "source": [
    "#### Reducing the network's size"
   ]
  },
  {
   "cell_type": "markdown",
   "metadata": {
    "colab_type": "text"
   },
   "source": [
    "**Original model**"
   ]
  },
  {
   "cell_type": "code",
   "execution_count": 22,
   "metadata": {
    "colab_type": "code"
   },
   "outputs": [
    {
     "name": "stdout",
     "output_type": "stream",
     "text": [
      "Epoch 1/20\n",
      "40/40 [==============================] - 1s 25ms/step - loss: 0.4888 - accuracy: 0.8089 - val_loss: 0.3561 - val_accuracy: 0.8774\n",
      "Epoch 2/20\n",
      "40/40 [==============================] - 1s 18ms/step - loss: 0.2858 - accuracy: 0.9057 - val_loss: 0.2894 - val_accuracy: 0.8892\n",
      "Epoch 3/20\n",
      "40/40 [==============================] - 1s 14ms/step - loss: 0.2146 - accuracy: 0.9263 - val_loss: 0.2711 - val_accuracy: 0.8944\n",
      "Epoch 4/20\n",
      "40/40 [==============================] - 1s 14ms/step - loss: 0.1756 - accuracy: 0.9400 - val_loss: 0.2752 - val_accuracy: 0.8906\n",
      "Epoch 5/20\n",
      "40/40 [==============================] - 1s 15ms/step - loss: 0.1474 - accuracy: 0.9495 - val_loss: 0.2866 - val_accuracy: 0.8892\n",
      "Epoch 6/20\n",
      "40/40 [==============================] - 1s 17ms/step - loss: 0.1251 - accuracy: 0.9585 - val_loss: 0.2967 - val_accuracy: 0.8884\n",
      "Epoch 7/20\n",
      "40/40 [==============================] - 1s 15ms/step - loss: 0.1059 - accuracy: 0.9658 - val_loss: 0.3228 - val_accuracy: 0.8840\n",
      "Epoch 8/20\n",
      "40/40 [==============================] - 1s 15ms/step - loss: 0.0914 - accuracy: 0.9707 - val_loss: 0.3386 - val_accuracy: 0.8840\n",
      "Epoch 9/20\n",
      "40/40 [==============================] - 1s 14ms/step - loss: 0.0779 - accuracy: 0.9755 - val_loss: 0.3722 - val_accuracy: 0.8776\n",
      "Epoch 10/20\n",
      "40/40 [==============================] - 1s 14ms/step - loss: 0.0665 - accuracy: 0.9801 - val_loss: 0.3913 - val_accuracy: 0.8810\n",
      "Epoch 11/20\n",
      "40/40 [==============================] - 1s 16ms/step - loss: 0.0559 - accuracy: 0.9845 - val_loss: 0.4138 - val_accuracy: 0.8782\n",
      "Epoch 12/20\n",
      "40/40 [==============================] - 1s 16ms/step - loss: 0.0463 - accuracy: 0.9874 - val_loss: 0.4631 - val_accuracy: 0.8760\n",
      "Epoch 13/20\n",
      "40/40 [==============================] - 1s 15ms/step - loss: 0.0368 - accuracy: 0.9908 - val_loss: 0.4908 - val_accuracy: 0.8712\n",
      "Epoch 14/20\n",
      "40/40 [==============================] - 1s 15ms/step - loss: 0.0316 - accuracy: 0.9926 - val_loss: 0.5162 - val_accuracy: 0.8736\n",
      "Epoch 15/20\n",
      "40/40 [==============================] - 1s 14ms/step - loss: 0.0250 - accuracy: 0.9949 - val_loss: 0.5670 - val_accuracy: 0.8702\n",
      "Epoch 16/20\n",
      "40/40 [==============================] - 1s 15ms/step - loss: 0.0205 - accuracy: 0.9958 - val_loss: 0.6130 - val_accuracy: 0.8666\n",
      "Epoch 17/20\n",
      "40/40 [==============================] - 1s 15ms/step - loss: 0.0156 - accuracy: 0.9973 - val_loss: 0.6115 - val_accuracy: 0.8698\n",
      "Epoch 18/20\n",
      "40/40 [==============================] - 1s 16ms/step - loss: 0.0110 - accuracy: 0.9985 - val_loss: 0.6493 - val_accuracy: 0.8714\n",
      "Epoch 19/20\n",
      "40/40 [==============================] - 1s 16ms/step - loss: 0.0092 - accuracy: 0.9988 - val_loss: 0.6901 - val_accuracy: 0.8692\n",
      "Epoch 20/20\n",
      "40/40 [==============================] - 1s 13ms/step - loss: 0.0090 - accuracy: 0.9981 - val_loss: 0.7319 - val_accuracy: 0.8700\n"
     ]
    }
   ],
   "source": [
    "from tensorflow.keras.datasets import imdb\n",
    "(train_data, train_labels), _ = imdb.load_data(num_words=10000)\n",
    "\n",
    "#vectorize_sequences()將數據向量化\n",
    "def vectorize_sequences(sequences, dimension=10000):\n",
    "    results = np.zeros((len(sequences), dimension))\n",
    "    for i, sequence in enumerate(sequences):\n",
    "        results[i, sequence] = 1.\n",
    "    return results\n",
    "train_data = vectorize_sequences(train_data)\n",
    "#構建model\n",
    "model = keras.Sequential([\n",
    "    layers.Dense(16, activation=\"relu\"),\n",
    "    layers.Dense(16, activation=\"relu\"),\n",
    "    layers.Dense(1, activation=\"sigmoid\")\n",
    "    #小發現：通常激勵函數是sigmoid 維度都只有1!\n",
    "])\n",
    "model.compile(optimizer=\"rmsprop\",\n",
    "              loss=\"binary_crossentropy\",\n",
    "              metrics=[\"accuracy\"])\n",
    "history_original = model.fit(train_data, train_labels,\n",
    "                             epochs=20, batch_size=512, validation_split=0.4)"
   ]
  },
  {
   "cell_type": "markdown",
   "metadata": {
    "colab_type": "text"
   },
   "source": [
    "**Version of the model with lower capacity**"
   ]
  },
  {
   "cell_type": "code",
   "execution_count": 25,
   "metadata": {
    "colab_type": "code"
   },
   "outputs": [
    {
     "name": "stdout",
     "output_type": "stream",
     "text": [
      "Epoch 1/20\n",
      "30/30 [==============================] - 2s 40ms/step - loss: 0.6149 - accuracy: 0.7202 - val_loss: 0.5391 - val_accuracy: 0.8379\n",
      "Epoch 2/20\n",
      "30/30 [==============================] - 1s 26ms/step - loss: 0.4856 - accuracy: 0.8643 - val_loss: 0.4633 - val_accuracy: 0.8304\n",
      "Epoch 3/20\n",
      "30/30 [==============================] - 1s 21ms/step - loss: 0.3940 - accuracy: 0.9079 - val_loss: 0.3917 - val_accuracy: 0.8929\n",
      "Epoch 4/20\n",
      "30/30 [==============================] - 1s 20ms/step - loss: 0.3200 - accuracy: 0.9268 - val_loss: 0.3504 - val_accuracy: 0.8730\n",
      "Epoch 5/20\n",
      "30/30 [==============================] - 1s 22ms/step - loss: 0.2647 - accuracy: 0.9360 - val_loss: 0.3168 - val_accuracy: 0.8805\n",
      "Epoch 6/20\n",
      "30/30 [==============================] - 1s 23ms/step - loss: 0.2235 - accuracy: 0.9426 - val_loss: 0.2898 - val_accuracy: 0.8944\n",
      "Epoch 7/20\n",
      "30/30 [==============================] - 1s 22ms/step - loss: 0.1941 - accuracy: 0.9488 - val_loss: 0.2815 - val_accuracy: 0.8921\n",
      "Epoch 8/20\n",
      "30/30 [==============================] - 1s 21ms/step - loss: 0.1706 - accuracy: 0.9548 - val_loss: 0.2750 - val_accuracy: 0.8934\n",
      "Epoch 9/20\n",
      "30/30 [==============================] - 1s 23ms/step - loss: 0.1521 - accuracy: 0.9594 - val_loss: 0.2766 - val_accuracy: 0.8898\n",
      "Epoch 10/20\n",
      "30/30 [==============================] - 1s 21ms/step - loss: 0.1354 - accuracy: 0.9642 - val_loss: 0.2797 - val_accuracy: 0.8880\n",
      "Epoch 11/20\n",
      "30/30 [==============================] - 1s 22ms/step - loss: 0.1227 - accuracy: 0.9670 - val_loss: 0.2839 - val_accuracy: 0.8883\n",
      "Epoch 12/20\n",
      "30/30 [==============================] - 1s 20ms/step - loss: 0.1110 - accuracy: 0.9717 - val_loss: 0.2865 - val_accuracy: 0.8876\n",
      "Epoch 13/20\n",
      "30/30 [==============================] - 1s 22ms/step - loss: 0.1001 - accuracy: 0.9743 - val_loss: 0.2952 - val_accuracy: 0.8863\n",
      "Epoch 14/20\n",
      "30/30 [==============================] - 1s 20ms/step - loss: 0.0906 - accuracy: 0.9779 - val_loss: 0.3041 - val_accuracy: 0.8853\n",
      "Epoch 15/20\n",
      "30/30 [==============================] - 1s 21ms/step - loss: 0.0819 - accuracy: 0.9797 - val_loss: 0.3143 - val_accuracy: 0.8851\n",
      "Epoch 16/20\n",
      "30/30 [==============================] - 1s 20ms/step - loss: 0.0736 - accuracy: 0.9831 - val_loss: 0.3286 - val_accuracy: 0.8818\n",
      "Epoch 17/20\n",
      "30/30 [==============================] - 1s 19ms/step - loss: 0.0671 - accuracy: 0.9850 - val_loss: 0.3407 - val_accuracy: 0.8817\n",
      "Epoch 18/20\n",
      "30/30 [==============================] - 1s 19ms/step - loss: 0.0609 - accuracy: 0.9867 - val_loss: 0.3525 - val_accuracy: 0.8804\n",
      "Epoch 19/20\n",
      "30/30 [==============================] - 1s 19ms/step - loss: 0.0553 - accuracy: 0.9883 - val_loss: 0.3756 - val_accuracy: 0.8761\n",
      "Epoch 20/20\n",
      "30/30 [==============================] - 0s 15ms/step - loss: 0.0500 - accuracy: 0.9903 - val_loss: 0.3789 - val_accuracy: 0.8782\n"
     ]
    }
   ],
   "source": [
    "#只是改數字 隱藏神經元的數量很少的情況下\n",
    "model = keras.Sequential([\n",
    "    layers.Dense(4, activation=\"relu\"),\n",
    "    layers.Dense(4, activation=\"relu\"),\n",
    "    layers.Dense(1, activation=\"sigmoid\")\n",
    "])\n",
    "model.compile(optimizer=\"rmsprop\",\n",
    "              loss=\"binary_crossentropy\",\n",
    "              metrics=[\"accuracy\"])\n",
    "history_smaller_model = model.fit(\n",
    "    train_data, train_labels,\n",
    "    epochs=20, batch_size=512, validation_split=0.4)"
   ]
  },
  {
   "cell_type": "markdown",
   "metadata": {
    "colab_type": "text"
   },
   "source": [
    "**Version of the model with higher capacity**"
   ]
  },
  {
   "cell_type": "code",
   "execution_count": 26,
   "metadata": {
    "colab_type": "code"
   },
   "outputs": [
    {
     "name": "stdout",
     "output_type": "stream",
     "text": [
      "Epoch 1/20\n",
      "30/30 [==============================] - 5s 146ms/step - loss: 0.5594 - accuracy: 0.7681 - val_loss: 0.3211 - val_accuracy: 0.8664\n",
      "Epoch 2/20\n",
      "30/30 [==============================] - 4s 123ms/step - loss: 0.2532 - accuracy: 0.8995 - val_loss: 0.2779 - val_accuracy: 0.8855\n",
      "Epoch 3/20\n",
      "30/30 [==============================] - 4s 126ms/step - loss: 0.1377 - accuracy: 0.9496 - val_loss: 0.3398 - val_accuracy: 0.8767\n",
      "Epoch 4/20\n",
      "30/30 [==============================] - 4s 122ms/step - loss: 0.0775 - accuracy: 0.9737 - val_loss: 0.4404 - val_accuracy: 0.8733\n",
      "Epoch 5/20\n",
      "30/30 [==============================] - 4s 123ms/step - loss: 0.0916 - accuracy: 0.9789 - val_loss: 0.3584 - val_accuracy: 0.8887\n",
      "Epoch 6/20\n",
      "30/30 [==============================] - 4s 128ms/step - loss: 0.0045 - accuracy: 0.9995 - val_loss: 0.5295 - val_accuracy: 0.8871\n",
      "Epoch 7/20\n",
      "30/30 [==============================] - 4s 128ms/step - loss: 5.2765e-04 - accuracy: 1.0000 - val_loss: 0.6500 - val_accuracy: 0.8870\n",
      "Epoch 8/20\n",
      "30/30 [==============================] - 4s 127ms/step - loss: 8.1952e-05 - accuracy: 1.0000 - val_loss: 0.7656 - val_accuracy: 0.8866\n",
      "Epoch 9/20\n",
      "30/30 [==============================] - 4s 123ms/step - loss: 1.5209e-05 - accuracy: 1.0000 - val_loss: 0.9289 - val_accuracy: 0.8826\n",
      "Epoch 10/20\n",
      "30/30 [==============================] - 4s 125ms/step - loss: 0.3642 - accuracy: 0.9807 - val_loss: 0.6489 - val_accuracy: 0.8843\n",
      "Epoch 11/20\n",
      "30/30 [==============================] - 4s 124ms/step - loss: 1.0442e-04 - accuracy: 1.0000 - val_loss: 0.6831 - val_accuracy: 0.8850\n",
      "Epoch 12/20\n",
      "30/30 [==============================] - 4s 127ms/step - loss: 3.0075e-05 - accuracy: 1.0000 - val_loss: 0.7226 - val_accuracy: 0.8860\n",
      "Epoch 13/20\n",
      "30/30 [==============================] - 4s 127ms/step - loss: 1.5582e-05 - accuracy: 1.0000 - val_loss: 0.7819 - val_accuracy: 0.8858\n",
      "Epoch 14/20\n",
      "30/30 [==============================] - 4s 127ms/step - loss: 6.9091e-06 - accuracy: 1.0000 - val_loss: 0.8671 - val_accuracy: 0.8851\n",
      "Epoch 15/20\n",
      "30/30 [==============================] - 4s 122ms/step - loss: 2.3123e-06 - accuracy: 1.0000 - val_loss: 0.9678 - val_accuracy: 0.8852\n",
      "Epoch 16/20\n",
      "30/30 [==============================] - 4s 123ms/step - loss: 7.2740e-07 - accuracy: 1.0000 - val_loss: 1.0768 - val_accuracy: 0.8842\n",
      "Epoch 17/20\n",
      "30/30 [==============================] - 4s 128ms/step - loss: 2.5412e-07 - accuracy: 1.0000 - val_loss: 1.1427 - val_accuracy: 0.8843\n",
      "Epoch 18/20\n",
      "30/30 [==============================] - 4s 128ms/step - loss: 1.0077e-07 - accuracy: 1.0000 - val_loss: 1.2177 - val_accuracy: 0.8850\n",
      "Epoch 19/20\n",
      "30/30 [==============================] - 4s 129ms/step - loss: 4.5743e-08 - accuracy: 1.0000 - val_loss: 1.2594 - val_accuracy: 0.8853\n",
      "Epoch 20/20\n",
      "30/30 [==============================] - 4s 125ms/step - loss: 2.5747e-08 - accuracy: 1.0000 - val_loss: 1.2933 - val_accuracy: 0.8852\n"
     ]
    }
   ],
   "source": [
    "#也只是改數字，隱藏神經元數量很高的情況下\n",
    "model = keras.Sequential([\n",
    "    layers.Dense(512, activation=\"relu\"),\n",
    "    layers.Dense(512, activation=\"relu\"),\n",
    "    layers.Dense(1, activation=\"sigmoid\")\n",
    "])\n",
    "model.compile(optimizer=\"rmsprop\",\n",
    "              loss=\"binary_crossentropy\",\n",
    "              metrics=[\"accuracy\"])\n",
    "history_larger_model = model.fit(\n",
    "    train_data, train_labels,\n",
    "    epochs=20, batch_size=512, validation_split=0.4)\n",
    "#結論：神經元個數越多，準確率並沒有越高。"
   ]
  },
  {
   "cell_type": "markdown",
   "metadata": {
    "colab_type": "text"
   },
   "source": [
    "#### Adding weight regularization"
   ]
  },
  {
   "cell_type": "markdown",
   "metadata": {
    "colab_type": "text"
   },
   "source": [
    "**Adding L2 weight regularization to the model**"
   ]
  },
  {
   "cell_type": "code",
   "execution_count": 27,
   "metadata": {
    "colab_type": "code"
   },
   "outputs": [
    {
     "name": "stdout",
     "output_type": "stream",
     "text": [
      "Epoch 1/20\n",
      "30/30 [==============================] - 2s 44ms/step - loss: 0.5965 - accuracy: 0.7869 - val_loss: 0.5190 - val_accuracy: 0.7975\n",
      "Epoch 2/20\n",
      "30/30 [==============================] - 1s 22ms/step - loss: 0.3984 - accuracy: 0.8923 - val_loss: 0.3865 - val_accuracy: 0.8863\n",
      "Epoch 3/20\n",
      "30/30 [==============================] - 1s 20ms/step - loss: 0.3354 - accuracy: 0.9107 - val_loss: 0.3682 - val_accuracy: 0.8869\n",
      "Epoch 4/20\n",
      "30/30 [==============================] - 1s 20ms/step - loss: 0.2986 - accuracy: 0.9269 - val_loss: 0.3923 - val_accuracy: 0.8717\n",
      "Epoch 5/20\n",
      "30/30 [==============================] - 1s 19ms/step - loss: 0.2843 - accuracy: 0.9293 - val_loss: 0.3806 - val_accuracy: 0.8777\n",
      "Epoch 6/20\n",
      "30/30 [==============================] - 1s 19ms/step - loss: 0.2656 - accuracy: 0.9386 - val_loss: 0.3614 - val_accuracy: 0.8854\n",
      "Epoch 7/20\n",
      "30/30 [==============================] - 1s 21ms/step - loss: 0.2605 - accuracy: 0.9379 - val_loss: 0.3795 - val_accuracy: 0.8775\n",
      "Epoch 8/20\n",
      "30/30 [==============================] - 1s 21ms/step - loss: 0.2526 - accuracy: 0.9421 - val_loss: 0.3720 - val_accuracy: 0.8822\n",
      "Epoch 9/20\n",
      "30/30 [==============================] - 1s 24ms/step - loss: 0.2408 - accuracy: 0.9467 - val_loss: 0.3773 - val_accuracy: 0.8805\n",
      "Epoch 10/20\n",
      "30/30 [==============================] - 1s 21ms/step - loss: 0.2361 - accuracy: 0.9483 - val_loss: 0.3988 - val_accuracy: 0.8746\n",
      "Epoch 11/20\n",
      "30/30 [==============================] - 1s 21ms/step - loss: 0.2318 - accuracy: 0.9489 - val_loss: 0.4031 - val_accuracy: 0.8742\n",
      "Epoch 12/20\n",
      "30/30 [==============================] - 1s 20ms/step - loss: 0.2290 - accuracy: 0.9509 - val_loss: 0.3856 - val_accuracy: 0.8802\n",
      "Epoch 13/20\n",
      "30/30 [==============================] - 1s 24ms/step - loss: 0.2238 - accuracy: 0.9529 - val_loss: 0.4557 - val_accuracy: 0.8561\n",
      "Epoch 14/20\n",
      "30/30 [==============================] - 1s 21ms/step - loss: 0.2198 - accuracy: 0.9529 - val_loss: 0.4024 - val_accuracy: 0.8774\n",
      "Epoch 15/20\n",
      "30/30 [==============================] - 1s 22ms/step - loss: 0.2130 - accuracy: 0.9555 - val_loss: 0.4133 - val_accuracy: 0.8748\n",
      "Epoch 16/20\n",
      "30/30 [==============================] - 1s 23ms/step - loss: 0.2175 - accuracy: 0.9528 - val_loss: 0.4079 - val_accuracy: 0.8759\n",
      "Epoch 17/20\n",
      "30/30 [==============================] - 1s 20ms/step - loss: 0.2183 - accuracy: 0.9521 - val_loss: 0.4196 - val_accuracy: 0.8733\n",
      "Epoch 18/20\n",
      "30/30 [==============================] - 1s 20ms/step - loss: 0.2099 - accuracy: 0.9561 - val_loss: 0.4148 - val_accuracy: 0.8741\n",
      "Epoch 19/20\n",
      "30/30 [==============================] - 1s 22ms/step - loss: 0.2135 - accuracy: 0.9540 - val_loss: 0.4275 - val_accuracy: 0.8737\n",
      "Epoch 20/20\n",
      "30/30 [==============================] - 1s 20ms/step - loss: 0.2031 - accuracy: 0.9589 - val_loss: 0.4325 - val_accuracy: 0.8712\n"
     ]
    }
   ],
   "source": [
    "from tensorflow.keras import regularizers\n",
    "model = keras.Sequential([\n",
    "    layers.Dense(16,\n",
    "                 kernel_regularizer=regularizers.l2(0.002),\n",
    "                 #正則化透過添加人為的限制，對過於激活的神經元進行懲罰，讓他的值向0靠攏\n",
    "                 activation=\"relu\"),\n",
    "    layers.Dense(16,\n",
    "                 kernel_regularizer=regularizers.l2(0.002),\n",
    "                 activation=\"relu\"),\n",
    "    layers.Dense(1, activation=\"sigmoid\")\n",
    "])\n",
    "model.compile(optimizer=\"rmsprop\",\n",
    "              loss=\"binary_crossentropy\",\n",
    "              metrics=[\"accuracy\"])\n",
    "history_l2_reg = model.fit(\n",
    "    train_data, train_labels,\n",
    "    epochs=20, batch_size=512, validation_split=0.4)"
   ]
  },
  {
   "cell_type": "markdown",
   "metadata": {
    "colab_type": "text"
   },
   "source": [
    "**Different weight regularizers available in Keras**"
   ]
  },
  {
   "cell_type": "code",
   "execution_count": 28,
   "metadata": {
    "colab_type": "code"
   },
   "outputs": [
    {
     "data": {
      "text/plain": [
       "<keras.regularizers.L1L2 at 0x7ff4ad59ae30>"
      ]
     },
     "execution_count": 28,
     "metadata": {},
     "output_type": "execute_result"
    }
   ],
   "source": [
    "#只是改數字\n",
    "from tensorflow.keras import regularizers\n",
    "regularizers.l1(0.001)\n",
    "regularizers.l1_l2(l1=0.001, l2=0.001)"
   ]
  },
  {
   "cell_type": "markdown",
   "metadata": {
    "colab_type": "text"
   },
   "source": [
    "#### Adding dropout"
   ]
  },
  {
   "cell_type": "markdown",
   "metadata": {
    "colab_type": "text"
   },
   "source": [
    "**Adding dropout to the IMDB model**"
   ]
  },
  {
   "cell_type": "code",
   "execution_count": 29,
   "metadata": {
    "colab_type": "code"
   },
   "outputs": [
    {
     "name": "stdout",
     "output_type": "stream",
     "text": [
      "Epoch 1/20\n",
      "30/30 [==============================] - 2s 44ms/step - loss: 0.6281 - accuracy: 0.6320 - val_loss: 0.5336 - val_accuracy: 0.8410\n",
      "Epoch 2/20\n",
      "30/30 [==============================] - 1s 25ms/step - loss: 0.5276 - accuracy: 0.7406 - val_loss: 0.4277 - val_accuracy: 0.8709\n",
      "Epoch 3/20\n",
      "30/30 [==============================] - 1s 20ms/step - loss: 0.4567 - accuracy: 0.7989 - val_loss: 0.3577 - val_accuracy: 0.8812\n",
      "Epoch 4/20\n",
      "30/30 [==============================] - 1s 22ms/step - loss: 0.3957 - accuracy: 0.8480 - val_loss: 0.3336 - val_accuracy: 0.8799\n",
      "Epoch 5/20\n",
      "30/30 [==============================] - 1s 22ms/step - loss: 0.3385 - accuracy: 0.8786 - val_loss: 0.2906 - val_accuracy: 0.8883\n",
      "Epoch 6/20\n",
      "30/30 [==============================] - 1s 22ms/step - loss: 0.3074 - accuracy: 0.8985 - val_loss: 0.2800 - val_accuracy: 0.8902\n",
      "Epoch 7/20\n",
      "30/30 [==============================] - 1s 23ms/step - loss: 0.2692 - accuracy: 0.9093 - val_loss: 0.2726 - val_accuracy: 0.8941\n",
      "Epoch 8/20\n",
      "30/30 [==============================] - 1s 23ms/step - loss: 0.2397 - accuracy: 0.9240 - val_loss: 0.2765 - val_accuracy: 0.8906\n",
      "Epoch 9/20\n",
      "30/30 [==============================] - 1s 23ms/step - loss: 0.2174 - accuracy: 0.9341 - val_loss: 0.2879 - val_accuracy: 0.8919\n",
      "Epoch 10/20\n",
      "30/30 [==============================] - 1s 25ms/step - loss: 0.1935 - accuracy: 0.9413 - val_loss: 0.2984 - val_accuracy: 0.8925\n",
      "Epoch 11/20\n",
      "30/30 [==============================] - 1s 22ms/step - loss: 0.1745 - accuracy: 0.9465 - val_loss: 0.3282 - val_accuracy: 0.8906\n",
      "Epoch 12/20\n",
      "30/30 [==============================] - 1s 22ms/step - loss: 0.1559 - accuracy: 0.9552 - val_loss: 0.3400 - val_accuracy: 0.8899\n",
      "Epoch 13/20\n",
      "30/30 [==============================] - 1s 22ms/step - loss: 0.1449 - accuracy: 0.9569 - val_loss: 0.3507 - val_accuracy: 0.8909\n",
      "Epoch 14/20\n",
      "30/30 [==============================] - 1s 21ms/step - loss: 0.1326 - accuracy: 0.9610 - val_loss: 0.3645 - val_accuracy: 0.8904\n",
      "Epoch 15/20\n",
      "30/30 [==============================] - 1s 21ms/step - loss: 0.1240 - accuracy: 0.9625 - val_loss: 0.3889 - val_accuracy: 0.8895\n",
      "Epoch 16/20\n",
      "30/30 [==============================] - 1s 20ms/step - loss: 0.1144 - accuracy: 0.9651 - val_loss: 0.4360 - val_accuracy: 0.8875\n",
      "Epoch 17/20\n",
      "30/30 [==============================] - 1s 22ms/step - loss: 0.1009 - accuracy: 0.9692 - val_loss: 0.4515 - val_accuracy: 0.8884\n",
      "Epoch 18/20\n",
      "30/30 [==============================] - 1s 22ms/step - loss: 0.1047 - accuracy: 0.9683 - val_loss: 0.4494 - val_accuracy: 0.8850\n",
      "Epoch 19/20\n",
      "30/30 [==============================] - 1s 21ms/step - loss: 0.0934 - accuracy: 0.9726 - val_loss: 0.4945 - val_accuracy: 0.8869\n",
      "Epoch 20/20\n",
      "30/30 [==============================] - 1s 20ms/step - loss: 0.0975 - accuracy: 0.9718 - val_loss: 0.5160 - val_accuracy: 0.8861\n"
     ]
    }
   ],
   "source": [
    "#Dropout 是一種對抗過擬合的正則化方法\n",
    "#Dropout 層在訓練期間以每一步的頻率隨機將輸入單元設置為 0 ，這有助於防止過度擬合。\n",
    "#創建Dopout正則化時，可以將 dropout rate的設為某一固定值，\n",
    "#當dropout rate=0.8時，實際上，保留概率為0.2。下面的例子中，dropout rate=0.5。\n",
    "\n",
    "model = keras.Sequential([\n",
    "    #將Dropout層添加到模型的現有層和之前的輸出層之間，神經網絡將這些輸出反饋到後續層中。\n",
    "    #用dense（）方法指定兩個全連接網絡層：\n",
    "    #在這兩層中間插入一個dropout層，這樣一來，第一層的輸出將對第二層實現Dropout正則化，後續層與此類似。\n",
    "    #現在，我們對第二層和輸出層實現了Dropout正則化。\n",
    "\n",
    "原文網址：https://kknews.cc/code/6qrg3zp.html\n",
    "\n",
    "    layers.Dense(16, activation=\"relu\"),\n",
    "    layers.Dropout(0.5),\n",
    "    layers.Dense(16, activation=\"relu\"),\n",
    "    layers.Dropout(0.5),\n",
    "    layers.Dense(1, activation=\"sigmoid\")\n",
    "])\n",
    "model.compile(optimizer=\"rmsprop\",\n",
    "              loss=\"binary_crossentropy\",\n",
    "              metrics=[\"accuracy\"])\n",
    "history_dropout = model.fit(\n",
    "    train_data, train_labels,\n",
    "    epochs=20, batch_size=512, validation_split=0.4)"
   ]
  },
  {
   "cell_type": "markdown",
   "metadata": {
    "colab_type": "text"
   },
   "source": [
    "## Summary"
   ]
  }
 ],
 "metadata": {
  "colab": {
   "collapsed_sections": [],
   "name": "chapter05_fundamentals-of-ml.i",
   "private_outputs": false,
   "provenance": [],
   "toc_visible": true
  },
  "kernelspec": {
   "display_name": "Python 3 (ipykernel)",
   "language": "python",
   "name": "python3"
  },
  "language_info": {
   "codemirror_mode": {
    "name": "ipython",
    "version": 3
   },
   "file_extension": ".py",
   "mimetype": "text/x-python",
   "name": "python",
   "nbconvert_exporter": "python",
   "pygments_lexer": "ipython3",
   "version": "3.10.4"
  }
 },
 "nbformat": 4,
 "nbformat_minor": 1
}
